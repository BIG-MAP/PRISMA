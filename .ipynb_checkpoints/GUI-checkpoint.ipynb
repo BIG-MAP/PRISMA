{
 "cells": [
  {
   "cell_type": "code",
   "execution_count": 2,
   "id": "utility-assault",
   "metadata": {},
   "outputs": [
    {
     "data": {
      "application/vnd.jupyter.widget-view+json": {
       "model_id": "34f83925bf9f44bda17904b7b8295ab5",
       "version_major": 2,
       "version_minor": 0
      },
      "text/plain": [
       "VBox(children=(HBox(children=(Image(value=b'\\x89PNG\\r\\n\\x1a\\n\\x00\\x00\\x00\\rIHDR\\x00\\x00\\x02t\\x00\\x00\\x02t\\x08\\…"
      ]
     },
     "metadata": {},
     "output_type": "display_data"
    }
   ],
   "source": [
    "from main.main import Main\n",
    "subapp = Main()\n",
    "subapp.interface"
   ]
  },
  {
   "cell_type": "code",
   "execution_count": null,
   "id": "deadly-belize",
   "metadata": {},
   "outputs": [],
   "source": []
  }
 ],
 "metadata": {
  "kernelspec": {
   "display_name": "raman_gui",
   "language": "python",
   "name": "raman_gui"
  },
  "language_info": {
   "codemirror_mode": {
    "name": "ipython",
    "version": 3
   },
   "file_extension": ".py",
   "mimetype": "text/x-python",
   "name": "python",
   "nbconvert_exporter": "python",
   "pygments_lexer": "ipython3",
   "version": "3.9.1"
  }
 },
 "nbformat": 4,
 "nbformat_minor": 5
}
