{
 "cells": [
  {
   "cell_type": "markdown",
   "id": "minute-latitude",
   "metadata": {},
   "source": [
    "![Logo](./images/logo1.png) \n",
    "# PRISMA App"
   ]
  },
  {
   "cell_type": "markdown",
   "id": "handled-nylon",
   "metadata": {},
   "source": [
    "PRISMA is a Jupyter-based app for high-throughput analysis of spectra. The app addresses the need of researchers working in spectroscopy to analyze large numbers of spectra quickly, simply and reproducibly - whether they are code-savvy or not. PRISMA consists of both Python-based code for analysis of spectra and a user-friendly Graphical User Interface (GUI) built with the ipywidgets module. "
   ]
  },
  {
   "cell_type": "markdown",
   "id": "atomic-graph",
   "metadata": {},
   "source": [
    "# License"
   ]
  },
  {
   "cell_type": "markdown",
   "id": "metric-syndrome",
   "metadata": {},
   "source": [
    "# Installation\n",
    "* DTU requirements to publish code?\n",
    "* Which License to use?\n",
    "    * My dependencies: python, numpy, scipy, bqplot, jupyter lab, ipywidgets"
   ]
  },
  {
   "cell_type": "markdown",
   "id": "nervous-columbus",
   "metadata": {},
   "source": [
    "# Use\n",
    "The general workflow to use the app consist of:\n",
    "1. Select a pipeline, i.e. the type of analysis\n",
    "2. Load raw data\n",
    "3. Explore processing parameters\n",
    "4. Apply optimal parameters to all spectra\n",
    "5. Export the results  \n",
    "\n",
    "The results are exported as .csv files ready for plotting.\n",
    "\n",
    "![General Workflow](./images/general_workflow.png)\n",
    "\n"
   ]
  },
  {
   "cell_type": "markdown",
   "id": "coordinate-chrome",
   "metadata": {},
   "source": [
    "# Code structure\n",
    "PRIMSA code is built in three separate layers:\n",
    "1. **The models**: main analysis code operating on spectrum objects, e.g. baseline correction, trimming, peak fitting, etc.  \n",
    "2. **The views**: reusable GUI elements built with ipywidgets.\n",
    "3. **The pipelines**: tailored code rendering a group of views together to create an app. The pipelines also control the flux of data between widgets and analysis code.  \n",
    "\n",
    "Such structure enables reusing analysis code (the model) via external apps.  \n",
    "\n"
   ]
  },
  {
   "cell_type": "markdown",
   "id": "prospective-kitty",
   "metadata": {},
   "source": [
    "The **models** are built around the `spectrum` object, which is determined by:  \n",
    "* a vector of energies\n",
    "* a vector of counts\n",
    "* a dictionary of metadata  \n",
    "\n",
    "Every analysis functionality takes as inputs a `spectrum` and parameters, and returns a new 'processed' `spectrum` object as output. All relevant parameters to reproduce the analysis (e.g. input parameters, side-results, etc.) are stored as metadata in the output spectrum.  \n",
    "![IO](./images/spectrum_io.png)    \n",
    "\n",
    "See the API documentation for more details."
   ]
  },
  {
   "cell_type": "markdown",
   "id": "caroline-walnut",
   "metadata": {},
   "source": [
    "# Cite"
   ]
  },
  {
   "cell_type": "markdown",
   "id": "devoted-lunch",
   "metadata": {},
   "source": [
    "# Contact\n",
    "Eibar Flores  \n",
    "Technical University Denmark  \n",
    "eibfl@dtu.dk"
   ]
  },
  {
   "cell_type": "code",
   "execution_count": null,
   "id": "collect-ecuador",
   "metadata": {},
   "outputs": [],
   "source": []
  }
 ],
 "metadata": {
  "kernelspec": {
   "display_name": "raman_gui",
   "language": "python",
   "name": "raman_gui"
  },
  "language_info": {
   "codemirror_mode": {
    "name": "ipython",
    "version": 3
   },
   "file_extension": ".py",
   "mimetype": "text/x-python",
   "name": "python",
   "nbconvert_exporter": "python",
   "pygments_lexer": "ipython3",
   "version": "3.9.1"
  }
 },
 "nbformat": 4,
 "nbformat_minor": 5
}
