{
 "cells": [
  {
   "cell_type": "markdown",
   "id": "242e4aab",
   "metadata": {},
   "source": [
    "# PRISMAs API: Examples"
   ]
  },
  {
   "cell_type": "markdown",
   "id": "27315d78",
   "metadata": {},
   "source": [
    "PRISMAs API consist of a `Spectrum` object, and functions to operate it (process it). In the following tutorial we demonstrate how to load, access and operate spectrum objects using the functions implemented in PRISMA."
   ]
  },
  {
   "cell_type": "code",
   "execution_count": 1,
   "id": "7d614104",
   "metadata": {},
   "outputs": [],
   "source": [
    "import prisma.parsers\n",
    "import os\n",
    "import bqplot.pyplot as plt"
   ]
  },
  {
   "cell_type": "markdown",
   "id": "391e4a4f",
   "metadata": {},
   "source": [
    "## 1. Loading files  \n",
    "First we use PRISMA parsers to load synthetic datasets containing spectra and instantiate as spectrum objects.  \n",
    "PRISMA accepts files with three different formats. See the API reference and explore the data files to get more details."
   ]
  },
  {
   "cell_type": "markdown",
   "id": "bae39dd2",
   "metadata": {},
   "source": [
    "### 1.1 Spectra stored as single file \n",
    "First open the single file in binary mode, and then pass the binary text to PRISMA's parser. The result are two dictionaries, one containing the spectra and the other its related metadata."
   ]
  },
  {
   "cell_type": "code",
   "execution_count": 2,
   "id": "4a91af62",
   "metadata": {},
   "outputs": [],
   "source": [
    "file_path = r'./data_single_csv/synthetic_dataset.csv'\n",
    "with open(file_path, mode='rb') as file:\n",
    "     spectra, spectra_metadata = prisma.parsers.single_csv(file.read())"
   ]
  },
  {
   "cell_type": "code",
   "execution_count": 3,
   "id": "8775f293",
   "metadata": {},
   "outputs": [
    {
     "data": {
      "text/plain": [
       "dict_keys(['spectrum_0', 'spectrum_1', 'spectrum_2', 'spectrum_3', 'spectrum_4', 'spectrum_5', 'spectrum_6', 'spectrum_7', 'spectrum_8', 'spectrum_9', 'spectrum_10', 'spectrum_11', 'spectrum_12', 'spectrum_13', 'spectrum_14', 'spectrum_15', 'spectrum_16', 'spectrum_17', 'spectrum_18', 'spectrum_19'])"
      ]
     },
     "execution_count": 3,
     "metadata": {},
     "output_type": "execute_result"
    }
   ],
   "source": [
    "spectra.keys()"
   ]
  },
  {
   "cell_type": "code",
   "execution_count": 4,
   "id": "593cd47e",
   "metadata": {},
   "outputs": [
    {
     "data": {
      "text/plain": [
       "{'common_energy_axis': True,\n",
       " 'energy_limits': [200.0, 1498.0],\n",
       " 'number_of_spectra': 20,\n",
       " 'number_of_datapoints': 650,\n",
       " 'min_resolvable_width': 2.0,\n",
       " 'error': ''}"
      ]
     },
     "execution_count": 4,
     "metadata": {},
     "output_type": "execute_result"
    }
   ],
   "source": [
    "spectra_metadata"
   ]
  },
  {
   "cell_type": "markdown",
   "id": "258f5b18",
   "metadata": {},
   "source": [
    "The spectra dictionary consist of key:spectrum_object pairs."
   ]
  },
  {
   "cell_type": "markdown",
   "id": "36f4d58d",
   "metadata": {},
   "source": [
    "### 1.2 Spectra stored as individual files  \n"
   ]
  },
  {
   "cell_type": "markdown",
   "id": "783f6bb2",
   "metadata": {},
   "source": [
    "If instead the spectra are stored as individual files, we use the multiple_txt parser.  \n",
    "First the files are listed, then each is read as binary files and stored in a dictionary of filenames:binary_text  pairs"
   ]
  },
  {
   "cell_type": "code",
   "execution_count": 5,
   "id": "5838d158",
   "metadata": {},
   "outputs": [],
   "source": [
    "file_path = r'./data_multiple_txt/'\n",
    "list_of_filenames = os.listdir(file_path)"
   ]
  },
  {
   "cell_type": "code",
   "execution_count": 6,
   "id": "d4df1ad7",
   "metadata": {},
   "outputs": [],
   "source": [
    "binary_text_files = {}\n",
    "\n",
    "for filename in list_of_filenames:\n",
    "    with open(file_path+filename, mode='rb') as file:\n",
    "        binary_text_files[filename] = file.read()       \n"
   ]
  },
  {
   "cell_type": "markdown",
   "id": "09755f3f",
   "metadata": {},
   "source": [
    "The dictionary is passed to the parser, which outputs two dictionaries, one containing the spectra and the other its related metadata."
   ]
  },
  {
   "cell_type": "code",
   "execution_count": 7,
   "id": "2af53cbc",
   "metadata": {},
   "outputs": [],
   "source": [
    "spectra, spectra_metadata = prisma.parsers.multiple_txt(binary_text_files)"
   ]
  },
  {
   "cell_type": "code",
   "execution_count": 8,
   "id": "b5ba4c83",
   "metadata": {},
   "outputs": [
    {
     "data": {
      "text/plain": [
       "dict_keys(['spectrum_0.txt', 'spectrum_1.txt', 'spectrum_10.txt', 'spectrum_11.txt', 'spectrum_12.txt', 'spectrum_13.txt', 'spectrum_14.txt', 'spectrum_15.txt', 'spectrum_16.txt', 'spectrum_17.txt', 'spectrum_18.txt', 'spectrum_19.txt', 'spectrum_2.txt', 'spectrum_3.txt', 'spectrum_4.txt', 'spectrum_5.txt', 'spectrum_6.txt', 'spectrum_7.txt', 'spectrum_8.txt', 'spectrum_9.txt'])"
      ]
     },
     "execution_count": 8,
     "metadata": {},
     "output_type": "execute_result"
    }
   ],
   "source": [
    "spectra.keys()"
   ]
  },
  {
   "cell_type": "code",
   "execution_count": 9,
   "id": "34e881c9",
   "metadata": {},
   "outputs": [
    {
     "data": {
      "text/plain": [
       "{'common_energy_axis': True,\n",
       " 'energy_limits': [200.0, 1498.0],\n",
       " 'number_of_spectra': 20,\n",
       " 'number_of_datapoints': 650,\n",
       " 'min_resolvable_width': 2.0,\n",
       " 'error': ''}"
      ]
     },
     "execution_count": 9,
     "metadata": {},
     "output_type": "execute_result"
    }
   ],
   "source": [
    "spectra_metadata"
   ]
  },
  {
   "cell_type": "markdown",
   "id": "78d8a633",
   "metadata": {},
   "source": [
    "## 2. The spectrum object"
   ]
  },
  {
   "cell_type": "markdown",
   "id": "332dd41b",
   "metadata": {},
   "source": [
    "PRISMA uses a data hierarchy to access data and ensures tracking the provenance of the processing steps. The hierarchy of the spectra variable outputted by the parsers is shown below:  \n",
    "![Data hierarchy of spectra](./figures/hierarchy.png)  \n",
    "* The parser's output - spectra - is a dictionary whose keys correspond to individual spectrum names (the filenames of individual txt files, or headings of the single csv file)\n",
    "* Each name accesses itself a dictionary, storing three types of `Spectrum` objects:  \n",
    "    * *root*: the original upload  \n",
    "    * *processed*: after baseline correction\n",
    "    * *fit*: after peak fitting.  \n",
    "\n",
    "In addition of the three main objects, you can of course add more keys to specify different operations.   \n",
    "\n",
    "Indexes and counts are the two Numpy arrays containing the values of the scanning variable (wavenumbers, energies, etc.) and the counts, respectively. For a guide to the attributes of these object types, consult the documentation."
   ]
  },
  {
   "cell_type": "markdown",
   "id": "0313d05b",
   "metadata": {},
   "source": [
    "### 2.1 Accessing the data  \n",
    "If you wish to access data, e.g. for plotting, follow the structure in the previous figure. For example, we plot two root (raw) spectra:"
   ]
  },
  {
   "cell_type": "code",
   "execution_count": 10,
   "id": "e3555753",
   "metadata": {},
   "outputs": [
    {
     "data": {
      "application/vnd.jupyter.widget-view+json": {
       "model_id": "cfeef486ab8b41bbb59812bead74f5e2",
       "version_major": 2,
       "version_minor": 0
      },
      "text/plain": [
       "VBox(children=(Figure(axes=[Axis(scale=LinearScale()), Axis(orientation='vertical', scale=LinearScale())], fig…"
      ]
     },
     "metadata": {},
     "output_type": "display_data"
    }
   ],
   "source": [
    "fig1 = plt.figure()\n",
    "plt.clear()\n",
    "plt.scatter(x=spectra['spectrum_0.txt']['root'].indexes, \n",
    "         y=spectra['spectrum_0.txt']['root'].counts, colors = ['DarkGray'], default_size = 30)\n",
    "plt.scatter(x=spectra['spectrum_18.txt']['root'].indexes, \n",
    "         y=spectra['spectrum_18.txt']['root'].counts, colors = ['LightBlue'], default_size = 30)\n",
    "plt.show()"
   ]
  },
  {
   "cell_type": "markdown",
   "id": "4350cde5",
   "metadata": {},
   "source": [
    "At the moment, spectra does not have `SpectrumProcessed` or `SpectrumFit` objects; they will be created later when processing the original spectra.  \n",
    "\n",
    "**Note**: [bqplot](https://bqplot.readthedocs.io/en/latest/#) is used as plotting package because its has better integration to widgets in Jupyter - however, you can use the package you prefer (matplotlib, seaborn, plotly...)"
   ]
  },
  {
   "cell_type": "markdown",
   "id": "a459eedb",
   "metadata": {},
   "source": [
    "## 3. Processing spectra\n",
    "Now the processing functions of PRISMA are used.  "
   ]
  },
  {
   "cell_type": "markdown",
   "id": "28b3162b",
   "metadata": {},
   "source": [
    "### 3.1 Trimming\n",
    "A spectrum will be trimmed PRISMA. First, import the relevant module."
   ]
  },
  {
   "cell_type": "code",
   "execution_count": 11,
   "id": "ade518b9",
   "metadata": {},
   "outputs": [],
   "source": [
    "import prisma.preprocessing"
   ]
  },
  {
   "cell_type": "markdown",
   "id": "68a61197",
   "metadata": {},
   "source": [
    "The trimming function is then used: it takes as argument a `Spectrum` object and the interval to trim. The result a spectrum trimmed within a region of interest."
   ]
  },
  {
   "cell_type": "code",
   "execution_count": 12,
   "id": "5f33622c",
   "metadata": {},
   "outputs": [],
   "source": [
    "spectra['spectrum_0.txt']['trimmed'] = prisma.preprocessing.trimming(spectra['spectrum_0.txt']['root'], (300,1400))"
   ]
  },
  {
   "cell_type": "code",
   "execution_count": 13,
   "id": "65b7329f",
   "metadata": {},
   "outputs": [
    {
     "data": {
      "application/vnd.jupyter.widget-view+json": {
       "model_id": "a9e370f259b84e7bac6e2522e8f68915",
       "version_major": 2,
       "version_minor": 0
      },
      "text/plain": [
       "VBox(children=(Figure(axes=[Axis(scale=LinearScale()), Axis(orientation='vertical', scale=LinearScale())], fig…"
      ]
     },
     "metadata": {},
     "output_type": "display_data"
    }
   ],
   "source": [
    "fig2 = plt.figure()\n",
    "plt.clear()\n",
    "plt.scatter(x=spectra['spectrum_0.txt']['root'].indexes, \n",
    "         y=spectra['spectrum_0.txt']['root'].counts, colors=['Gray'], default_size = 30)\n",
    "plt.scatter(x=spectra['spectrum_0.txt']['trimmed'].indexes, \n",
    "         y=spectra['spectrum_0.txt']['trimmed'].counts, colors=['Tomato'], default_size = 30)\n",
    "plt.show()"
   ]
  },
  {
   "cell_type": "markdown",
   "id": "b5ff3d54",
   "metadata": {},
   "source": [
    "### 3.2 Baseline correction"
   ]
  },
  {
   "cell_type": "code",
   "execution_count": 14,
   "id": "d220ee50",
   "metadata": {},
   "outputs": [],
   "source": [
    "import prisma.baselines"
   ]
  },
  {
   "cell_type": "markdown",
   "id": "2431022e",
   "metadata": {},
   "source": [
    "Now the baseline can be corrected within the region of interest. For that, use the baselines module. The assymetric least squares method is currently implemented. The function takes as inputs a spectrum object and two more parameters: a penalty *log_p* and a smoothing parameter *log_lambda*. See the documentation for more details.  \n",
    "\n",
    "The function ouptuts a `SpectrumProcessed` object, with the same attributes as a `Spectrum` with an additional `.baseline` attribute. "
   ]
  },
  {
   "cell_type": "code",
   "execution_count": 15,
   "id": "f1904a0e",
   "metadata": {},
   "outputs": [],
   "source": [
    "spectra['spectrum_0.txt']['processed'] = prisma.baselines.asymmetric_least_squares(spectrum=spectra['spectrum_0.txt']['trimmed'], \n",
    "                                                                                   log_p = -2, log_lambda = 6.0)"
   ]
  },
  {
   "cell_type": "markdown",
   "id": "e9354215",
   "metadata": {},
   "source": [
    "You can see the result below: in grey the original spectrum, in orange the baseline-substracted version and in blue the baseline. You can play with the `log_p` and `log_lambda` parameters to improve the baseline."
   ]
  },
  {
   "cell_type": "code",
   "execution_count": 16,
   "id": "7802bdf7",
   "metadata": {},
   "outputs": [
    {
     "data": {
      "application/vnd.jupyter.widget-view+json": {
       "model_id": "f398bd9464fa4f35afdfe9292157b6e4",
       "version_major": 2,
       "version_minor": 0
      },
      "text/plain": [
       "VBox(children=(Figure(axes=[Axis(scale=LinearScale()), Axis(orientation='vertical', scale=LinearScale())], fig…"
      ]
     },
     "metadata": {},
     "output_type": "display_data"
    }
   ],
   "source": [
    "fig3 = plt.figure()\n",
    "plt.clear()\n",
    "plt.scatter(x=spectra['spectrum_0.txt']['root'].indexes, \n",
    "         y=spectra['spectrum_0.txt']['root'].counts, colors=['Gray'], default_size = 30)\n",
    "plt.scatter(x=spectra['spectrum_0.txt']['processed'].indexes, \n",
    "         y=spectra['spectrum_0.txt']['processed'].counts, colors=['Tomato'], default_size = 30)\n",
    "plt.plot(x=spectra['spectrum_0.txt']['processed'].indexes, \n",
    "         y=spectra['spectrum_0.txt']['processed'].baseline, colors=['navy'])\n",
    "plt.show()"
   ]
  },
  {
   "cell_type": "markdown",
   "id": "e6993462",
   "metadata": {},
   "source": [
    "### 3.3 Peak fitting"
   ]
  },
  {
   "cell_type": "code",
   "execution_count": 17,
   "id": "1d805ded",
   "metadata": {},
   "outputs": [],
   "source": [
    "import prisma.fitpeaks"
   ]
  },
  {
   "cell_type": "markdown",
   "id": "e2503ebc",
   "metadata": {},
   "source": [
    "The fitpeaks module contains the `fit_peaks` function with parameters:\n",
    "* *spectrum*: a `Spectrum` object.\n",
    "* *peak_bounds*: a list of (low,high) 2-tuples for each peak. Each 2-tuple specify the low,high limits of the neighborhood where an individual peak is expected to be found. \n",
    "* *guess_widths*: a list of maximum widht limits for each peak. **Note** len(peak_bounds) must be equal to len(guess_widths).\n",
    "* *lineshape*: the peak profile to use. Currently PRISMA supports 'Lorentzian', 'Gaussian' and 'Pseudo-Voight 50% Lorentzian'; the latter is a mixture of 50% Lorentzian + 50% Gaussian. "
   ]
  },
  {
   "cell_type": "code",
   "execution_count": 18,
   "id": "be147446",
   "metadata": {},
   "outputs": [],
   "source": [
    "my_peak_bounds = [(600,700),(700,800),(850,950)] #[(bounds peak 1), (bounds peak 2), (bounds peak 3)]\n",
    "my_max_widths = [100, 100, 100] \n",
    "spectra['spectrum_0.txt']['fit'] = prisma.fitpeaks.fit_peaks(spectrum = spectra['spectrum_0.txt']['processed'],\n",
    "                                                             peak_bounds = my_peak_bounds,\n",
    "                                                             guess_widths = my_max_widths,\n",
    "                                                             lineshape = 'Lorentzian')"
   ]
  },
  {
   "cell_type": "markdown",
   "id": "03359fc0",
   "metadata": {},
   "source": [
    "The `fit_peaks` function returns an `SpectrumPeakFit` object. The `.counts` attribute is a Numpy array with the sum of all profiles."
   ]
  },
  {
   "cell_type": "code",
   "execution_count": 19,
   "id": "b957cb57",
   "metadata": {},
   "outputs": [
    {
     "data": {
      "application/vnd.jupyter.widget-view+json": {
       "model_id": "5ca7401e1d5b4f12aecc1511e83765cc",
       "version_major": 2,
       "version_minor": 0
      },
      "text/plain": [
       "VBox(children=(Figure(axes=[Axis(scale=LinearScale()), Axis(orientation='vertical', scale=LinearScale())], fig…"
      ]
     },
     "metadata": {},
     "output_type": "display_data"
    }
   ],
   "source": [
    "fig4 = plt.figure()\n",
    "plt.clear()\n",
    "plt.scatter(x=spectra['spectrum_0.txt']['processed'].indexes, \n",
    "         y=spectra['spectrum_0.txt']['processed'].counts, colors=['Tomato'], default_size = 30)\n",
    "plt.plot(x=spectra['spectrum_0.txt']['fit'].indexes, \n",
    "         y=spectra['spectrum_0.txt']['fit'].counts, colors=['Purple'])\n",
    "plt.show()"
   ]
  },
  {
   "cell_type": "markdown",
   "id": "857ffa15",
   "metadata": {},
   "source": [
    "Likewise, the `SpectrumPeakFit` object has a `.profiles` attribute, which is a dictionary of int:Numpy array pairs, each array containing an individual peak. See below how these profiles are accessed: "
   ]
  },
  {
   "cell_type": "code",
   "execution_count": 20,
   "id": "d1c1134d",
   "metadata": {},
   "outputs": [
    {
     "data": {
      "application/vnd.jupyter.widget-view+json": {
       "model_id": "acd6763224344f649c3049b3cf37dadc",
       "version_major": 2,
       "version_minor": 0
      },
      "text/plain": [
       "VBox(children=(Figure(axes=[Axis(scale=LinearScale()), Axis(orientation='vertical', scale=LinearScale())], fig…"
      ]
     },
     "metadata": {},
     "output_type": "display_data"
    }
   ],
   "source": [
    "fig5 = plt.figure()\n",
    "plt.clear()\n",
    "plt.scatter(x=spectra['spectrum_0.txt']['processed'].indexes, \n",
    "         y=spectra['spectrum_0.txt']['processed'].counts, colors=['Tomato'], default_size = 30)\n",
    "\n",
    "for profile in spectra['spectrum_0.txt']['fit'].profiles.values():\n",
    "    plt.plot(x=spectra['spectrum_0.txt']['fit'].indexes, \n",
    "             y=profile, colors=['Sienna'])\n",
    "plt.show()"
   ]
  },
  {
   "cell_type": "markdown",
   "id": "dcf783b6",
   "metadata": {},
   "source": [
    "Finally, you can access the fitting parameters as well, from the `.metadata` attribute of `SpectrumPeakFit` object. The 'Fitted parameters' key holds a dictionary with the parameters:\n",
    "* *y_0*: the intercept\n",
    "* *h_n*: height of n-th peak\n",
    "* *p_n*: position of n-th peak\n",
    "* *w_n*: widht of n-th peak"
   ]
  },
  {
   "cell_type": "code",
   "execution_count": 21,
   "id": "504959a8",
   "metadata": {},
   "outputs": [
    {
     "data": {
      "text/plain": [
       "{'Process': 'Peak fitting',\n",
       " 'Process ID': 'DD01S8MK',\n",
       " 'Peak lineshapes': 'Lorentzian',\n",
       " 'Number of peaks': 3,\n",
       " 'Initial widths': [100, 100, 100],\n",
       " 'Position bounds': [(600, 700), (700, 800), (850, 950)],\n",
       " 'Fitting success': True,\n",
       " 'Fitted parameters': {'y_0': 14.261820797738476,\n",
       "  'h_1': 159.1785815843886,\n",
       "  'p_1': 651.4102759787481,\n",
       "  'w_1': 32.456911006277814,\n",
       "  'h_2': 490.71675925087334,\n",
       "  'p_2': 729.9340376160852,\n",
       "  'w_2': 8.829556052404568,\n",
       "  'h_3': 288.2073045137635,\n",
       "  'p_3': 899.6150842723773,\n",
       "  'w_3': 14.332950672231094}}"
      ]
     },
     "execution_count": 21,
     "metadata": {},
     "output_type": "execute_result"
    }
   ],
   "source": [
    "spectra['spectrum_0.txt']['fit'].metadata"
   ]
  },
  {
   "cell_type": "code",
   "execution_count": null,
   "id": "77cf9b9e",
   "metadata": {},
   "outputs": [],
   "source": []
  }
 ],
 "metadata": {
  "kernelspec": {
   "display_name": "prisma",
   "language": "python",
   "name": "prisma"
  },
  "language_info": {
   "codemirror_mode": {
    "name": "ipython",
    "version": 3
   },
   "file_extension": ".py",
   "mimetype": "text/x-python",
   "name": "python",
   "nbconvert_exporter": "python",
   "pygments_lexer": "ipython3",
   "version": "3.9.1"
  }
 },
 "nbformat": 4,
 "nbformat_minor": 5
}
