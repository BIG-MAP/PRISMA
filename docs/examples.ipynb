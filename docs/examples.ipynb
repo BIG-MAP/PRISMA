{
 "cells": [
  {
   "cell_type": "markdown",
   "id": "77406f50",
   "metadata": {},
   "source": [
    "# PRISMAs API: Examples"
   ]
  },
  {
   "cell_type": "markdown",
   "id": "a68575e3",
   "metadata": {},
   "source": [
    "PRISMAs API consist of a `Spectrum` object, and functions to operate it (process it). In the following tutorial we demonstrate how to load, access and operate spectrum objects using the functions implemented in PRISMA."
   ]
  },
  {
   "cell_type": "code",
   "execution_count": 1,
   "id": "7439bcf4",
   "metadata": {},
   "outputs": [],
   "source": [
    "import prisma.parsers\n",
    "import os\n",
    "import bqplot.pyplot as plt"
   ]
  },
  {
   "cell_type": "markdown",
   "id": "3b8cdc7f",
   "metadata": {},
   "source": [
    "## 1. Loading files  \n",
    "First we use PRISMA parsers to load synthetic datasets containing spectra and instantiate as spectrum objects.  \n",
    "PRISMA accepts files with three different formats. See the API reference and explore the data files to get more details."
   ]
  },
  {
   "cell_type": "markdown",
   "id": "cfe555e0",
   "metadata": {},
   "source": [
    "### 1.1 Spectra stored as single file \n",
    "First open the single file in binary mode, and then pass the binary text to PRISMA's parser. The result are two dictionaries, one containing the spectra and the other its related metadata."
   ]
  },
  {
   "cell_type": "code",
   "execution_count": 2,
   "id": "3c497276",
   "metadata": {},
   "outputs": [],
   "source": [
    "file_path = r'./data_single_csv/synthetic_dataset.csv'\n",
    "with open(file_path, mode='rb') as file:\n",
    "     spectra, spectra_metadata = prisma.parsers.single_csv(file.read())"
   ]
  },
  {
   "cell_type": "code",
   "execution_count": 3,
   "id": "54e19859",
   "metadata": {},
   "outputs": [
    {
     "data": {
      "text/plain": [
       "dict_keys(['spectrum_0', 'spectrum_1', 'spectrum_2', 'spectrum_3', 'spectrum_4', 'spectrum_5', 'spectrum_6', 'spectrum_7', 'spectrum_8', 'spectrum_9', 'spectrum_10', 'spectrum_11', 'spectrum_12', 'spectrum_13', 'spectrum_14', 'spectrum_15', 'spectrum_16', 'spectrum_17', 'spectrum_18', 'spectrum_19'])"
      ]
     },
     "execution_count": 3,
     "metadata": {},
     "output_type": "execute_result"
    }
   ],
   "source": [
    "spectra.keys()"
   ]
  },
  {
   "cell_type": "code",
   "execution_count": 4,
   "id": "d5350fe8",
   "metadata": {},
   "outputs": [
    {
     "data": {
      "text/plain": [
       "{'common_energy_axis': True,\n",
       " 'energy_limits': [200.0, 1498.0],\n",
       " 'number_of_spectra': 20,\n",
       " 'number_of_datapoints': 650,\n",
       " 'min_resolvable_width': 2.0,\n",
       " 'error': ''}"
      ]
     },
     "execution_count": 4,
     "metadata": {},
     "output_type": "execute_result"
    }
   ],
   "source": [
    "spectra_metadata"
   ]
  },
  {
   "cell_type": "markdown",
   "id": "487816f3",
   "metadata": {},
   "source": [
    "The spectra dictionary consist of key:spectrum_object pairs."
   ]
  },
  {
   "cell_type": "markdown",
   "id": "d5b341c1",
   "metadata": {},
   "source": [
    "### 1.2 Spectra stored as individual files  \n"
   ]
  },
  {
   "cell_type": "markdown",
   "id": "791fc827",
   "metadata": {},
   "source": [
    "If instead the spectra are stored as individual files, we use the multiple_txt parser.  \n",
    "First the files are listed, then each is read as binary files and stored in a dictionary of filenames:binary_text  pairs"
   ]
  },
  {
   "cell_type": "code",
   "execution_count": 5,
   "id": "1f78a784",
   "metadata": {},
   "outputs": [],
   "source": [
    "file_path = r'./data_multiple_txt/'\n",
    "list_of_filenames = os.listdir(file_path)"
   ]
  },
  {
   "cell_type": "code",
   "execution_count": 6,
   "id": "cd2695ea",
   "metadata": {},
   "outputs": [],
   "source": [
    "binary_text_files = {}\n",
    "\n",
    "for filename in list_of_filenames:\n",
    "    with open(file_path+filename, mode='rb') as file:\n",
    "        binary_text_files[filename] = file.read()       \n"
   ]
  },
  {
   "cell_type": "markdown",
   "id": "bf70667f",
   "metadata": {},
   "source": [
    "The dictionary is passed to the parser, which outputs two dictionaries, one containing the spectra and the other its related metadata."
   ]
  },
  {
   "cell_type": "code",
   "execution_count": 7,
   "id": "1af169cd",
   "metadata": {},
   "outputs": [],
   "source": [
    "spectra, spectra_metadata = prisma.parsers.multiple_txt(binary_text_files)"
   ]
  },
  {
   "cell_type": "code",
   "execution_count": 8,
   "id": "540428c6",
   "metadata": {},
   "outputs": [
    {
     "data": {
      "text/plain": [
       "dict_keys(['spectrum_0.txt', 'spectrum_1.txt', 'spectrum_10.txt', 'spectrum_11.txt', 'spectrum_12.txt', 'spectrum_13.txt', 'spectrum_14.txt', 'spectrum_15.txt', 'spectrum_16.txt', 'spectrum_17.txt', 'spectrum_18.txt', 'spectrum_19.txt', 'spectrum_2.txt', 'spectrum_3.txt', 'spectrum_4.txt', 'spectrum_5.txt', 'spectrum_6.txt', 'spectrum_7.txt', 'spectrum_8.txt', 'spectrum_9.txt'])"
      ]
     },
     "execution_count": 8,
     "metadata": {},
     "output_type": "execute_result"
    }
   ],
   "source": [
    "spectra.keys()"
   ]
  },
  {
   "cell_type": "code",
   "execution_count": 9,
   "id": "2e19e2d7",
   "metadata": {},
   "outputs": [
    {
     "data": {
      "text/plain": [
       "{'common_energy_axis': True,\n",
       " 'energy_limits': [200.0, 1498.0],\n",
       " 'number_of_spectra': 20,\n",
       " 'number_of_datapoints': 650,\n",
       " 'min_resolvable_width': 2.0,\n",
       " 'error': ''}"
      ]
     },
     "execution_count": 9,
     "metadata": {},
     "output_type": "execute_result"
    }
   ],
   "source": [
    "spectra_metadata"
   ]
  },
  {
   "cell_type": "markdown",
   "id": "af6ef6e0",
   "metadata": {},
   "source": [
    "## 2. The spectrum object"
   ]
  },
  {
   "cell_type": "markdown",
   "id": "e52cbbfd",
   "metadata": {},
   "source": [
    "PRISMA uses a data hierarchy to access data and ensures tracking the provenance of the processing steps. The hierarchy of the spectra variable outputted by the parsers is shown below:  \n",
    "![Data hierarchy of spectra](./figures/hierarchy.png)  \n",
    "* The parser's output - spectra - is a dictionary whose keys correspond to individual spectrum names (the filenames of individual txt files, or headings of the single csv file)\n",
    "* Each name accesses itself a dictionary, storing three types of `Spectrum` objects:  \n",
    "    * *root*: the original upload  \n",
    "    * *processed*: after baseline correction\n",
    "    * *fit*: after peak fitting.  \n",
    "\n",
    "In addition of the three main objects, you can of course add more keys to specify different operations.   \n",
    "\n",
    "Indexes and counts are the two Numpy arrays containing the values of the scanning variable (wavenumbers, energies, etc.) and the counts, respectively. For a guide to the attributes of these object types, consult the documentation."
   ]
  },
  {
   "cell_type": "markdown",
   "id": "a680b98a",
   "metadata": {},
   "source": [
    "### 2.1 Accessing the data  \n",
    "If you wish to access data, e.g. for plotting, follow the structure in the previous figure. For example, we plot two root (raw) spectra:"
   ]
  },
  {
   "cell_type": "code",
   "execution_count": 10,
   "id": "8d16ada4",
   "metadata": {},
   "outputs": [
    {
     "data": {
      "application/vnd.jupyter.widget-view+json": {
       "model_id": "096e3186be174113a73e134bd5b28492",
       "version_major": 2,
       "version_minor": 0
      },
      "text/plain": [
       "VBox(children=(Figure(axes=[Axis(scale=LinearScale()), Axis(orientation='vertical', scale=LinearScale())], fig…"
      ]
     },
     "metadata": {},
     "output_type": "display_data"
    }
   ],
   "source": [
    "fig1 = plt.figure()\n",
    "plt.clear()\n",
    "plt.scatter(x=spectra['spectrum_0.txt']['root'].indexes, \n",
    "         y=spectra['spectrum_0.txt']['root'].counts, colors = ['DarkGray'], default_size = 30)\n",
    "plt.scatter(x=spectra['spectrum_18.txt']['root'].indexes, \n",
    "         y=spectra['spectrum_18.txt']['root'].counts, colors = ['LightBlue'], default_size = 30)\n",
    "plt.show()"
   ]
  },
  {
   "cell_type": "markdown",
   "id": "5b0868c5",
   "metadata": {},
   "source": [
    "At the moment, spectra does not have `SpectrumProcessed` or `SpectrumFit` objects; they will be created later when processing the original spectra.  \n",
    "\n",
    "**Note**: [bqplot](https://bqplot.readthedocs.io/en/latest/#) is used as plotting package because its has better integration to widgets in Jupyter - however, you can use the package you prefer (matplotlib, seaborn, plotly...)"
   ]
  },
  {
   "cell_type": "markdown",
   "id": "09442e33",
   "metadata": {},
   "source": [
    "## 3. Processing spectra\n",
    "Now the processing functions of PRISMA are used.  "
   ]
  },
  {
   "cell_type": "markdown",
   "id": "e4d29e4c",
   "metadata": {},
   "source": [
    "### 3.1 Trimming\n",
    "A spectrum will be trimmed PRISMA. First, import the relevant module."
   ]
  },
  {
   "cell_type": "code",
   "execution_count": 11,
   "id": "c50ca0cd",
   "metadata": {},
   "outputs": [],
   "source": [
    "import prisma.preprocessing"
   ]
  },
  {
   "cell_type": "markdown",
   "id": "1f7662f0",
   "metadata": {},
   "source": [
    "The trimming function is then used: it takes as argument a `Spectrum` object and the interval to trim. The result a spectrum trimmed within a region of interest."
   ]
  },
  {
   "cell_type": "code",
   "execution_count": 12,
   "id": "05219c66",
   "metadata": {},
   "outputs": [],
   "source": [
    "spectra['spectrum_0.txt']['trimmed'] = prisma.preprocessing.trimming(spectra['spectrum_0.txt']['root'], (300,1400))"
   ]
  },
  {
   "cell_type": "code",
   "execution_count": 13,
   "id": "1f46ec6d",
   "metadata": {},
   "outputs": [
    {
     "data": {
      "application/vnd.jupyter.widget-view+json": {
       "model_id": "37dbd04518c044deab9611c1475489b2",
       "version_major": 2,
       "version_minor": 0
      },
      "text/plain": [
       "VBox(children=(Figure(axes=[Axis(scale=LinearScale()), Axis(orientation='vertical', scale=LinearScale())], fig…"
      ]
     },
     "metadata": {},
     "output_type": "display_data"
    }
   ],
   "source": [
    "fig2 = plt.figure()\n",
    "plt.clear()\n",
    "plt.scatter(x=spectra['spectrum_0.txt']['root'].indexes, \n",
    "         y=spectra['spectrum_0.txt']['root'].counts, colors=['Gray'], default_size = 30)\n",
    "plt.scatter(x=spectra['spectrum_0.txt']['trimmed'].indexes, \n",
    "         y=spectra['spectrum_0.txt']['trimmed'].counts, colors=['Tomato'], default_size = 30)\n",
    "plt.show()"
   ]
  },
  {
   "cell_type": "markdown",
   "id": "51f6fb7c",
   "metadata": {},
   "source": [
    "### 3.2 Baseline correction"
   ]
  },
  {
   "cell_type": "code",
   "execution_count": 14,
   "id": "21dacc1b",
   "metadata": {},
   "outputs": [],
   "source": [
    "import prisma.baselines"
   ]
  },
  {
   "cell_type": "markdown",
   "id": "076aea20",
   "metadata": {},
   "source": [
    "Now the baseline can be corrected within the region of interest. For that, use the baselines module. The assymetric least squares method is currently implemented. The function takes as inputs a spectrum object and two more parameters: a penalty *log_p* and a smoothing parameter *log_lambda*. See the documentation for more details.  \n",
    "\n",
    "The function ouptuts a `SpectrumProcessed` object, with the same attributes as a `Spectrum` with an additional `.baseline` attribute. "
   ]
  },
  {
   "cell_type": "code",
   "execution_count": 22,
   "id": "babf7500",
   "metadata": {},
   "outputs": [],
   "source": [
    "spectra['spectrum_0.txt']['processed'] = prisma.baselines.asymmetric_least_squares(spectrum=spectra['spectrum_0.txt']['trimmed'], \n",
    "                                                                                   log_p = -2, log_lambda = 5.0)"
   ]
  },
  {
   "cell_type": "markdown",
   "id": "ca61b669",
   "metadata": {},
   "source": [
    "You can see the result below: in grey the original spectrum, in orange the baseline-substracted version and in blue the baseline. You can play with the `log_p` and `log_lambda` parameters to improve the baseline."
   ]
  },
  {
   "cell_type": "code",
   "execution_count": 23,
   "id": "53e7e51f",
   "metadata": {},
   "outputs": [
    {
     "data": {
      "application/vnd.jupyter.widget-view+json": {
       "model_id": "3f75d761e1014abd8061ffdc529ccacc",
       "version_major": 2,
       "version_minor": 0
      },
      "text/plain": [
       "VBox(children=(Figure(axes=[Axis(scale=LinearScale()), Axis(orientation='vertical', scale=LinearScale())], fig…"
      ]
     },
     "metadata": {},
     "output_type": "display_data"
    }
   ],
   "source": [
    "fig3 = plt.figure()\n",
    "plt.clear()\n",
    "plt.scatter(x=spectra['spectrum_0.txt']['root'].indexes, \n",
    "         y=spectra['spectrum_0.txt']['root'].counts, colors=['Gray'], default_size = 30)\n",
    "plt.scatter(x=spectra['spectrum_0.txt']['processed'].indexes, \n",
    "         y=spectra['spectrum_0.txt']['processed'].counts, colors=['Tomato'], default_size = 30)\n",
    "plt.plot(x=spectra['spectrum_0.txt']['processed'].indexes, \n",
    "         y=spectra['spectrum_0.txt']['processed'].baseline, colors=['navy'])\n",
    "plt.show()"
   ]
  },
  {
   "cell_type": "code",
   "execution_count": null,
   "id": "3a26bca8",
   "metadata": {},
   "outputs": [],
   "source": []
  },
  {
   "cell_type": "markdown",
   "id": "a3b89733",
   "metadata": {},
   "source": [
    "### 3.3 Peak fitting"
   ]
  },
  {
   "cell_type": "code",
   "execution_count": 17,
   "id": "f99eab5b",
   "metadata": {},
   "outputs": [],
   "source": [
    "import prisma.fitpeaks"
   ]
  },
  {
   "cell_type": "markdown",
   "id": "4d6be2ad",
   "metadata": {},
   "source": [
    "The fitpeaks module contains the `fit_peaks` function with parameters:\n",
    "* *spectrum*: a `Spectrum` object.\n",
    "* *peak_bounds*: a list of (low,high) 2-tuples for each peak. Each 2-tuple specify the low,high limits of the neighborhood where an individual peak is expected to be found. \n",
    "* *guess_widths*: a list of maximum widht limits for each peak. **Note** len(peak_bounds) must be equal to len(guess_widths).\n",
    "* *lineshape*: the peak profile to use. Currently PRISMA supports 'Lorentzian', 'Gaussian' and 'Pseudo-Voight 50% Lorentzian'; the latter is a mixture of 50% Lorentzian + 50% Gaussian. "
   ]
  },
  {
   "cell_type": "code",
   "execution_count": 18,
   "id": "4a762231",
   "metadata": {},
   "outputs": [],
   "source": [
    "my_peak_bounds = [(600,700),(700,800),(850,950)] #[(bounds peak 1), (bounds peak 2), (bounds peak 3)]\n",
    "my_max_widths = [100, 100, 100] \n",
    "spectra['spectrum_0.txt']['fit'] = prisma.fitpeaks.fit_peaks(spectrum = spectra['spectrum_0.txt']['processed'],\n",
    "                                                             peak_bounds = my_peak_bounds,\n",
    "                                                             guess_widths = my_max_widths,\n",
    "                                                             lineshape = 'Lorentzian')"
   ]
  },
  {
   "cell_type": "markdown",
   "id": "c706e618",
   "metadata": {},
   "source": [
    "The `fit_peaks` function returns an `SpectrumPeakFit` object. The `.counts` attribute is a Numpy array with the sum of all profiles."
   ]
  },
  {
   "cell_type": "code",
   "execution_count": 19,
   "id": "07e8ca88",
   "metadata": {},
   "outputs": [
    {
     "data": {
      "application/vnd.jupyter.widget-view+json": {
       "model_id": "1082900ca3b84c2f93a4fbb35f628f8e",
       "version_major": 2,
       "version_minor": 0
      },
      "text/plain": [
       "VBox(children=(Figure(axes=[Axis(scale=LinearScale()), Axis(orientation='vertical', scale=LinearScale())], fig…"
      ]
     },
     "metadata": {},
     "output_type": "display_data"
    }
   ],
   "source": [
    "fig4 = plt.figure()\n",
    "plt.clear()\n",
    "plt.scatter(x=spectra['spectrum_0.txt']['processed'].indexes, \n",
    "         y=spectra['spectrum_0.txt']['processed'].counts, colors=['Tomato'], default_size = 30)\n",
    "plt.plot(x=spectra['spectrum_0.txt']['fit'].indexes, \n",
    "         y=spectra['spectrum_0.txt']['fit'].counts, colors=['Purple'])\n",
    "plt.show()"
   ]
  },
  {
   "cell_type": "markdown",
   "id": "8cd524ea",
   "metadata": {},
   "source": [
    "Likewise, the `SpectrumPeakFit` object has a `.profiles` attribute, which is a dictionary of int:Numpy array pairs, each array containing an individual peak. See below how these profiles are accessed: "
   ]
  },
  {
   "cell_type": "code",
   "execution_count": 20,
   "id": "f38f119a",
   "metadata": {},
   "outputs": [
    {
     "data": {
      "application/vnd.jupyter.widget-view+json": {
       "model_id": "4e700a58a8b34927aba1a20ec706ebf3",
       "version_major": 2,
       "version_minor": 0
      },
      "text/plain": [
       "VBox(children=(Figure(axes=[Axis(scale=LinearScale()), Axis(orientation='vertical', scale=LinearScale())], fig…"
      ]
     },
     "metadata": {},
     "output_type": "display_data"
    }
   ],
   "source": [
    "fig5 = plt.figure()\n",
    "plt.clear()\n",
    "plt.scatter(x=spectra['spectrum_0.txt']['processed'].indexes, \n",
    "         y=spectra['spectrum_0.txt']['processed'].counts, colors=['Tomato'], default_size = 30)\n",
    "\n",
    "for profile in spectra['spectrum_0.txt']['fit'].profiles.values():\n",
    "    plt.plot(x=spectra['spectrum_0.txt']['fit'].indexes, \n",
    "             y=profile, colors=['Sienna'])\n",
    "plt.show()"
   ]
  },
  {
   "cell_type": "markdown",
   "id": "f72fb508",
   "metadata": {},
   "source": [
    "Finally, you can access the fitting parameters as well, from the `.metadata` attribute of `SpectrumPeakFit` object. The 'Fitted parameters' key holds a dictionary with the parameters:\n",
    "* *y_0*: the intercept\n",
    "* *h_n*: height of n-th peak\n",
    "* *p_n*: position of n-th peak\n",
    "* *w_n*: widht of n-th peak"
   ]
  },
  {
   "cell_type": "code",
   "execution_count": 21,
   "id": "eea0bfbc",
   "metadata": {},
   "outputs": [
    {
     "data": {
      "text/plain": [
       "{'parent': <prisma.spectrum.SpectrumProcessed at 0x23de21294f0>,\n",
       " 'Process': 'Peak fitting',\n",
       " 'Process ID': 'DD01S8MK',\n",
       " 'Peak lineshapes': 'Lorentzian',\n",
       " 'Number of peaks': 3,\n",
       " 'Initial widths': [100, 100, 100],\n",
       " 'Position bounds': [(600, 700), (700, 800), (850, 950)],\n",
       " 'Fitting success': True,\n",
       " 'Fitted parameters': {'y_0': 14.265210648457046,\n",
       "  'h_1': 159.2095865428945,\n",
       "  'p_1': 651.4087459148911,\n",
       "  'w_1': 32.43915922647676,\n",
       "  'h_2': 490.71427341906576,\n",
       "  'p_2': 729.9340273630528,\n",
       "  'w_2': 8.830629602482736,\n",
       "  'h_3': 288.2072134427914,\n",
       "  'p_3': 899.6150644234906,\n",
       "  'w_3': 14.33272728476666}}"
      ]
     },
     "execution_count": 21,
     "metadata": {},
     "output_type": "execute_result"
    }
   ],
   "source": [
    "spectra['spectrum_0.txt']['fit'].metadata"
   ]
  },
  {
   "cell_type": "code",
   "execution_count": null,
   "id": "d3ba6cca",
   "metadata": {},
   "outputs": [],
   "source": []
  }
 ],
 "metadata": {
  "kernelspec": {
   "display_name": "prisma",
   "language": "python",
   "name": "prisma"
  },
  "language_info": {
   "codemirror_mode": {
    "name": "ipython",
    "version": 3
   },
   "file_extension": ".py",
   "mimetype": "text/x-python",
   "name": "python",
   "nbconvert_exporter": "python",
   "pygments_lexer": "ipython3",
   "version": "3.9.1"
  }
 },
 "nbformat": 4,
 "nbformat_minor": 5
}
