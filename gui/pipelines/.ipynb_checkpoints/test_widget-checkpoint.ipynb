{
 "cells": [
  {
   "cell_type": "code",
   "execution_count": 1,
   "id": "301c5b5a",
   "metadata": {},
   "outputs": [],
   "source": [
    "from load import ViewLoad"
   ]
  },
  {
   "cell_type": "code",
   "execution_count": 2,
   "id": "04e1acd1",
   "metadata": {},
   "outputs": [],
   "source": [
    "AVAILABLE_PARSERS = {'Single .csv':          {'multiple files': False,'file format':'.csv'},\n",
    "                    'Single .txt (Bruker)': {'multiple files': False,'file format':'.txt'},\n",
    "                    'Multiple .txt':        {'multiple files': True, 'file format':'*'}}\n",
    "widget_group = ViewLoad(AVAILABLE_PARSERS)"
   ]
  },
  {
   "cell_type": "code",
   "execution_count": 3,
   "id": "66c35a84",
   "metadata": {},
   "outputs": [
    {
     "data": {
      "application/vnd.jupyter.widget-view+json": {
       "model_id": "8b17863ddd9f49ca97165fdbc7df42e9",
       "version_major": 2,
       "version_minor": 0
      },
      "text/plain": [
       "VBox(children=(HTML(value='<h3>Manage Spectra</h3>'), VBox(children=(Dropdown(description='Parser', options=('…"
      ]
     },
     "metadata": {},
     "output_type": "display_data"
    }
   ],
   "source": [
    "widget_group.interface"
   ]
  },
  {
   "cell_type": "code",
   "execution_count": null,
   "id": "46aee673",
   "metadata": {},
   "outputs": [],
   "source": []
  }
 ],
 "metadata": {
  "kernelspec": {
   "display_name": "prisma",
   "language": "python",
   "name": "prisma"
  },
  "language_info": {
   "codemirror_mode": {
    "name": "ipython",
    "version": 3
   },
   "file_extension": ".py",
   "mimetype": "text/x-python",
   "name": "python",
   "nbconvert_exporter": "python",
   "pygments_lexer": "ipython3",
   "version": "3.9.1"
  }
 },
 "nbformat": 4,
 "nbformat_minor": 5
}
