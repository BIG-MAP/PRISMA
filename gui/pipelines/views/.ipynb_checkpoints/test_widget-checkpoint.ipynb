{
 "cells": [
  {
   "cell_type": "code",
   "execution_count": 1,
   "id": "af25d77f",
   "metadata": {},
   "outputs": [],
   "source": [
    "from load import ViewLoad"
   ]
  },
  {
   "cell_type": "code",
   "execution_count": 2,
   "id": "938eb627",
   "metadata": {},
   "outputs": [],
   "source": [
    "AVAILABLE_PARSERS = {'Single .csv':          {'multiple files': False,'file format':'.csv'},\n",
    "                    'Single .txt (Bruker)': {'multiple files': False,'file format':'.txt'},\n",
    "                    'Multiple .txt':        {'multiple files': True, 'file format':'*'}}\n",
    "widget_group = ViewLoad(AVAILABLE_PARSERS)"
   ]
  },
  {
   "cell_type": "code",
   "execution_count": 3,
   "id": "88293544",
   "metadata": {},
   "outputs": [
    {
     "data": {
      "application/vnd.jupyter.widget-view+json": {
       "model_id": "ddfa4f0e19ea42189f97e94195af07fb",
       "version_major": 2,
       "version_minor": 0
      },
      "text/plain": [
       "VBox(children=(HTML(value='<h3>Manage Spectra</h3>'), VBox(children=(Dropdown(description='Parser', options=('…"
      ]
     },
     "metadata": {},
     "output_type": "display_data"
    }
   ],
   "source": [
    "widget_group.interface"
   ]
  },
  {
   "cell_type": "code",
   "execution_count": null,
   "id": "11e26214",
   "metadata": {},
   "outputs": [],
   "source": []
  }
 ],
 "metadata": {
  "kernelspec": {
   "display_name": "prisma",
   "language": "python",
   "name": "prisma"
  },
  "language_info": {
   "codemirror_mode": {
    "name": "ipython",
    "version": 3
   },
   "file_extension": ".py",
   "mimetype": "text/x-python",
   "name": "python",
   "nbconvert_exporter": "python",
   "pygments_lexer": "ipython3",
   "version": "3.9.1"
  }
 },
 "nbformat": 4,
 "nbformat_minor": 5
}
