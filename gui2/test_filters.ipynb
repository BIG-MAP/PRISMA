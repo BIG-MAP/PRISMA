{
 "cells": [
  {
   "cell_type": "code",
   "execution_count": 1,
   "metadata": {},
   "outputs": [],
   "source": [
    "import numpy as np\n",
    "import time\n",
    "import plotly.graph_objs as go\n",
    "import plotly.express as px"
   ]
  },
  {
   "cell_type": "code",
   "execution_count": 2,
   "metadata": {},
   "outputs": [],
   "source": [
    "# Generate a noisy signal\n",
    "noisy_signal = np.cumsum(np.random.normal(0, 1, 100))\n",
    "\n",
    "# Add outliers at specific indices\n",
    "outlier_indices = np.random.choice(len(noisy_signal), size=5, replace=False)\n",
    "noisy_signal[outlier_indices] += np.random.normal(2, 10, len(outlier_indices))\n"
   ]
  },
  {
   "cell_type": "code",
   "execution_count": 3,
   "metadata": {},
   "outputs": [],
   "source": [
    "def plot_signal(noisy_signal, signal_corrected=None):\n",
    "    fig = go.Figure()\n",
    "    fig.add_trace(go.Scatter(x=np.arange(len(noisy_signal)), y=noisy_signal, mode='markers', name='Noisy Signal'))\n",
    "    if signal_corrected is None or len(signal_corrected) == 0:\n",
    "        pass\n",
    "    else:\n",
    "        fig.add_trace(go.Scatter(x=np.arange(len(signal_corrected)), y=signal_corrected, mode='markers', name='Signal corrected'))\n",
    "\n",
    "\n",
    "    fig.show()\n",
    "\n",
    "\n",
    "# thresholds = [1.5, 3, 5, 7, 9, 11, 13, 15]\n",
    "# times=[]\n",
    "\n",
    "# for t in thresholds:\n",
    "#     start_time = time.time()\n",
    "#     cleaned_signal = remove_outliers_iqr_diffs(noisy_signal,threshold=10)\n",
    "#     times.append(1000*(time.time()-start_time))\n",
    "\n",
    "# px.scatter(x=list(range(len(thresholds))), y=times)\n"
   ]
  },
  {
   "cell_type": "code",
   "execution_count": 4,
   "metadata": {},
   "outputs": [
    {
     "data": {
      "application/vnd.plotly.v1+json": {
       "config": {
        "plotlyServerURL": "https://plot.ly"
       },
       "data": [
        {
         "mode": "markers",
         "name": "Noisy Signal",
         "type": "scatter",
         "x": [
          0,
          1,
          2,
          3,
          4,
          5,
          6,
          7,
          8,
          9,
          10,
          11,
          12,
          13,
          14,
          15,
          16,
          17,
          18,
          19,
          20,
          21,
          22,
          23,
          24,
          25,
          26,
          27,
          28,
          29,
          30,
          31,
          32,
          33,
          34,
          35,
          36,
          37,
          38,
          39,
          40,
          41,
          42,
          43,
          44,
          45,
          46,
          47,
          48,
          49,
          50,
          51,
          52,
          53,
          54,
          55,
          56,
          57,
          58,
          59,
          60,
          61,
          62,
          63,
          64,
          65,
          66,
          67,
          68,
          69,
          70,
          71,
          72,
          73,
          74,
          75,
          76,
          77,
          78,
          79,
          80,
          81,
          82,
          83,
          84,
          85,
          86,
          87,
          88,
          89,
          90,
          91,
          92,
          93,
          94,
          95,
          96,
          97,
          98,
          99
         ],
         "y": [
          1.0273447121899668,
          0.283663413093156,
          0.5948179816433399,
          -0.09588151894842034,
          -7.84995834783338,
          -1.1368686258617124,
          0.11391807554948752,
          -0.7503352382370556,
          -1.3816031535453173,
          -3.465750702030574,
          -4.448563802171369,
          -3.358117429423458,
          -3.2028435014522976,
          -3.7112000479456606,
          -3.947177740794493,
          -4.4289854610590735,
          0.8340073958143561,
          -4.464054637803328,
          -5.677556126771101,
          -7.744333772293899,
          -8.310151353974485,
          -9.432741040694953,
          -9.92944194232273,
          -12.520699342532806,
          -6.562217258189319,
          -13.516292005608374,
          -13.437852180723418,
          -12.71762825367014,
          -12.544030714302261,
          -12.355455015933154,
          -13.307959134313386,
          -13.376390893760847,
          -13.280503232063797,
          -10.960095827998453,
          -11.207881851613871,
          -9.440204746803403,
          -10.03046816610101,
          -10.577696472296937,
          -8.736486506912104,
          -8.407816405381018,
          -7.330481750474393,
          -8.303579746229286,
          -7.1781733710598115,
          -6.18989341233724,
          -6.836782333784736,
          -5.444087788683177,
          -7.045668885397333,
          -7.0226518164015,
          -10.28090585982993,
          -8.744028103211265,
          -10.464928827212853,
          -9.858973138023547,
          -9.900106005273328,
          -10.810060662245325,
          -11.20063995844817,
          -11.387495971883931,
          -10.8077543206566,
          -10.289461371497207,
          -11.093792381351992,
          -9.529567960230441,
          -9.234615028165534,
          -10.148629798122807,
          -9.931079656495232,
          -8.445277536512222,
          -8.606471305540587,
          -10.046309332356742,
          -10.213149313679942,
          -10.69960892857284,
          -11.361857373317276,
          -10.743696642975575,
          -10.759009149845841,
          -10.642711242075016,
          -9.639202841039767,
          -8.954685634113591,
          -9.72927560328285,
          -10.309974491829657,
          -8.270317029406378,
          -4.849887238374729,
          -5.745852425605684,
          -5.140279654525573,
          3.583063682630643,
          -5.430322830148996,
          -5.502186215874053,
          -5.194758578915287,
          -4.414115070654382,
          -4.244148437684353,
          -2.4745618336123183,
          -2.2418004237065645,
          -2.4072489703607154,
          -4.1248312441674795,
          -4.942107866357322,
          -3.299507060286213,
          -3.419363538205789,
          -3.614241137033044,
          -4.282824228728769,
          -5.2574566093709265,
          -5.990106780148995,
          -7.292334893282674,
          -5.539828039970289,
          -4.767733879537987
         ]
        }
       ],
       "layout": {
        "template": {
         "data": {
          "bar": [
           {
            "error_x": {
             "color": "#2a3f5f"
            },
            "error_y": {
             "color": "#2a3f5f"
            },
            "marker": {
             "line": {
              "color": "#E5ECF6",
              "width": 0.5
             },
             "pattern": {
              "fillmode": "overlay",
              "size": 10,
              "solidity": 0.2
             }
            },
            "type": "bar"
           }
          ],
          "barpolar": [
           {
            "marker": {
             "line": {
              "color": "#E5ECF6",
              "width": 0.5
             },
             "pattern": {
              "fillmode": "overlay",
              "size": 10,
              "solidity": 0.2
             }
            },
            "type": "barpolar"
           }
          ],
          "carpet": [
           {
            "aaxis": {
             "endlinecolor": "#2a3f5f",
             "gridcolor": "white",
             "linecolor": "white",
             "minorgridcolor": "white",
             "startlinecolor": "#2a3f5f"
            },
            "baxis": {
             "endlinecolor": "#2a3f5f",
             "gridcolor": "white",
             "linecolor": "white",
             "minorgridcolor": "white",
             "startlinecolor": "#2a3f5f"
            },
            "type": "carpet"
           }
          ],
          "choropleth": [
           {
            "colorbar": {
             "outlinewidth": 0,
             "ticks": ""
            },
            "type": "choropleth"
           }
          ],
          "contour": [
           {
            "colorbar": {
             "outlinewidth": 0,
             "ticks": ""
            },
            "colorscale": [
             [
              0,
              "#0d0887"
             ],
             [
              0.1111111111111111,
              "#46039f"
             ],
             [
              0.2222222222222222,
              "#7201a8"
             ],
             [
              0.3333333333333333,
              "#9c179e"
             ],
             [
              0.4444444444444444,
              "#bd3786"
             ],
             [
              0.5555555555555556,
              "#d8576b"
             ],
             [
              0.6666666666666666,
              "#ed7953"
             ],
             [
              0.7777777777777778,
              "#fb9f3a"
             ],
             [
              0.8888888888888888,
              "#fdca26"
             ],
             [
              1,
              "#f0f921"
             ]
            ],
            "type": "contour"
           }
          ],
          "contourcarpet": [
           {
            "colorbar": {
             "outlinewidth": 0,
             "ticks": ""
            },
            "type": "contourcarpet"
           }
          ],
          "heatmap": [
           {
            "colorbar": {
             "outlinewidth": 0,
             "ticks": ""
            },
            "colorscale": [
             [
              0,
              "#0d0887"
             ],
             [
              0.1111111111111111,
              "#46039f"
             ],
             [
              0.2222222222222222,
              "#7201a8"
             ],
             [
              0.3333333333333333,
              "#9c179e"
             ],
             [
              0.4444444444444444,
              "#bd3786"
             ],
             [
              0.5555555555555556,
              "#d8576b"
             ],
             [
              0.6666666666666666,
              "#ed7953"
             ],
             [
              0.7777777777777778,
              "#fb9f3a"
             ],
             [
              0.8888888888888888,
              "#fdca26"
             ],
             [
              1,
              "#f0f921"
             ]
            ],
            "type": "heatmap"
           }
          ],
          "heatmapgl": [
           {
            "colorbar": {
             "outlinewidth": 0,
             "ticks": ""
            },
            "colorscale": [
             [
              0,
              "#0d0887"
             ],
             [
              0.1111111111111111,
              "#46039f"
             ],
             [
              0.2222222222222222,
              "#7201a8"
             ],
             [
              0.3333333333333333,
              "#9c179e"
             ],
             [
              0.4444444444444444,
              "#bd3786"
             ],
             [
              0.5555555555555556,
              "#d8576b"
             ],
             [
              0.6666666666666666,
              "#ed7953"
             ],
             [
              0.7777777777777778,
              "#fb9f3a"
             ],
             [
              0.8888888888888888,
              "#fdca26"
             ],
             [
              1,
              "#f0f921"
             ]
            ],
            "type": "heatmapgl"
           }
          ],
          "histogram": [
           {
            "marker": {
             "pattern": {
              "fillmode": "overlay",
              "size": 10,
              "solidity": 0.2
             }
            },
            "type": "histogram"
           }
          ],
          "histogram2d": [
           {
            "colorbar": {
             "outlinewidth": 0,
             "ticks": ""
            },
            "colorscale": [
             [
              0,
              "#0d0887"
             ],
             [
              0.1111111111111111,
              "#46039f"
             ],
             [
              0.2222222222222222,
              "#7201a8"
             ],
             [
              0.3333333333333333,
              "#9c179e"
             ],
             [
              0.4444444444444444,
              "#bd3786"
             ],
             [
              0.5555555555555556,
              "#d8576b"
             ],
             [
              0.6666666666666666,
              "#ed7953"
             ],
             [
              0.7777777777777778,
              "#fb9f3a"
             ],
             [
              0.8888888888888888,
              "#fdca26"
             ],
             [
              1,
              "#f0f921"
             ]
            ],
            "type": "histogram2d"
           }
          ],
          "histogram2dcontour": [
           {
            "colorbar": {
             "outlinewidth": 0,
             "ticks": ""
            },
            "colorscale": [
             [
              0,
              "#0d0887"
             ],
             [
              0.1111111111111111,
              "#46039f"
             ],
             [
              0.2222222222222222,
              "#7201a8"
             ],
             [
              0.3333333333333333,
              "#9c179e"
             ],
             [
              0.4444444444444444,
              "#bd3786"
             ],
             [
              0.5555555555555556,
              "#d8576b"
             ],
             [
              0.6666666666666666,
              "#ed7953"
             ],
             [
              0.7777777777777778,
              "#fb9f3a"
             ],
             [
              0.8888888888888888,
              "#fdca26"
             ],
             [
              1,
              "#f0f921"
             ]
            ],
            "type": "histogram2dcontour"
           }
          ],
          "mesh3d": [
           {
            "colorbar": {
             "outlinewidth": 0,
             "ticks": ""
            },
            "type": "mesh3d"
           }
          ],
          "parcoords": [
           {
            "line": {
             "colorbar": {
              "outlinewidth": 0,
              "ticks": ""
             }
            },
            "type": "parcoords"
           }
          ],
          "pie": [
           {
            "automargin": true,
            "type": "pie"
           }
          ],
          "scatter": [
           {
            "fillpattern": {
             "fillmode": "overlay",
             "size": 10,
             "solidity": 0.2
            },
            "type": "scatter"
           }
          ],
          "scatter3d": [
           {
            "line": {
             "colorbar": {
              "outlinewidth": 0,
              "ticks": ""
             }
            },
            "marker": {
             "colorbar": {
              "outlinewidth": 0,
              "ticks": ""
             }
            },
            "type": "scatter3d"
           }
          ],
          "scattercarpet": [
           {
            "marker": {
             "colorbar": {
              "outlinewidth": 0,
              "ticks": ""
             }
            },
            "type": "scattercarpet"
           }
          ],
          "scattergeo": [
           {
            "marker": {
             "colorbar": {
              "outlinewidth": 0,
              "ticks": ""
             }
            },
            "type": "scattergeo"
           }
          ],
          "scattergl": [
           {
            "marker": {
             "colorbar": {
              "outlinewidth": 0,
              "ticks": ""
             }
            },
            "type": "scattergl"
           }
          ],
          "scattermapbox": [
           {
            "marker": {
             "colorbar": {
              "outlinewidth": 0,
              "ticks": ""
             }
            },
            "type": "scattermapbox"
           }
          ],
          "scatterpolar": [
           {
            "marker": {
             "colorbar": {
              "outlinewidth": 0,
              "ticks": ""
             }
            },
            "type": "scatterpolar"
           }
          ],
          "scatterpolargl": [
           {
            "marker": {
             "colorbar": {
              "outlinewidth": 0,
              "ticks": ""
             }
            },
            "type": "scatterpolargl"
           }
          ],
          "scatterternary": [
           {
            "marker": {
             "colorbar": {
              "outlinewidth": 0,
              "ticks": ""
             }
            },
            "type": "scatterternary"
           }
          ],
          "surface": [
           {
            "colorbar": {
             "outlinewidth": 0,
             "ticks": ""
            },
            "colorscale": [
             [
              0,
              "#0d0887"
             ],
             [
              0.1111111111111111,
              "#46039f"
             ],
             [
              0.2222222222222222,
              "#7201a8"
             ],
             [
              0.3333333333333333,
              "#9c179e"
             ],
             [
              0.4444444444444444,
              "#bd3786"
             ],
             [
              0.5555555555555556,
              "#d8576b"
             ],
             [
              0.6666666666666666,
              "#ed7953"
             ],
             [
              0.7777777777777778,
              "#fb9f3a"
             ],
             [
              0.8888888888888888,
              "#fdca26"
             ],
             [
              1,
              "#f0f921"
             ]
            ],
            "type": "surface"
           }
          ],
          "table": [
           {
            "cells": {
             "fill": {
              "color": "#EBF0F8"
             },
             "line": {
              "color": "white"
             }
            },
            "header": {
             "fill": {
              "color": "#C8D4E3"
             },
             "line": {
              "color": "white"
             }
            },
            "type": "table"
           }
          ]
         },
         "layout": {
          "annotationdefaults": {
           "arrowcolor": "#2a3f5f",
           "arrowhead": 0,
           "arrowwidth": 1
          },
          "autotypenumbers": "strict",
          "coloraxis": {
           "colorbar": {
            "outlinewidth": 0,
            "ticks": ""
           }
          },
          "colorscale": {
           "diverging": [
            [
             0,
             "#8e0152"
            ],
            [
             0.1,
             "#c51b7d"
            ],
            [
             0.2,
             "#de77ae"
            ],
            [
             0.3,
             "#f1b6da"
            ],
            [
             0.4,
             "#fde0ef"
            ],
            [
             0.5,
             "#f7f7f7"
            ],
            [
             0.6,
             "#e6f5d0"
            ],
            [
             0.7,
             "#b8e186"
            ],
            [
             0.8,
             "#7fbc41"
            ],
            [
             0.9,
             "#4d9221"
            ],
            [
             1,
             "#276419"
            ]
           ],
           "sequential": [
            [
             0,
             "#0d0887"
            ],
            [
             0.1111111111111111,
             "#46039f"
            ],
            [
             0.2222222222222222,
             "#7201a8"
            ],
            [
             0.3333333333333333,
             "#9c179e"
            ],
            [
             0.4444444444444444,
             "#bd3786"
            ],
            [
             0.5555555555555556,
             "#d8576b"
            ],
            [
             0.6666666666666666,
             "#ed7953"
            ],
            [
             0.7777777777777778,
             "#fb9f3a"
            ],
            [
             0.8888888888888888,
             "#fdca26"
            ],
            [
             1,
             "#f0f921"
            ]
           ],
           "sequentialminus": [
            [
             0,
             "#0d0887"
            ],
            [
             0.1111111111111111,
             "#46039f"
            ],
            [
             0.2222222222222222,
             "#7201a8"
            ],
            [
             0.3333333333333333,
             "#9c179e"
            ],
            [
             0.4444444444444444,
             "#bd3786"
            ],
            [
             0.5555555555555556,
             "#d8576b"
            ],
            [
             0.6666666666666666,
             "#ed7953"
            ],
            [
             0.7777777777777778,
             "#fb9f3a"
            ],
            [
             0.8888888888888888,
             "#fdca26"
            ],
            [
             1,
             "#f0f921"
            ]
           ]
          },
          "colorway": [
           "#636efa",
           "#EF553B",
           "#00cc96",
           "#ab63fa",
           "#FFA15A",
           "#19d3f3",
           "#FF6692",
           "#B6E880",
           "#FF97FF",
           "#FECB52"
          ],
          "font": {
           "color": "#2a3f5f"
          },
          "geo": {
           "bgcolor": "white",
           "lakecolor": "white",
           "landcolor": "#E5ECF6",
           "showlakes": true,
           "showland": true,
           "subunitcolor": "white"
          },
          "hoverlabel": {
           "align": "left"
          },
          "hovermode": "closest",
          "mapbox": {
           "style": "light"
          },
          "paper_bgcolor": "white",
          "plot_bgcolor": "#E5ECF6",
          "polar": {
           "angularaxis": {
            "gridcolor": "white",
            "linecolor": "white",
            "ticks": ""
           },
           "bgcolor": "#E5ECF6",
           "radialaxis": {
            "gridcolor": "white",
            "linecolor": "white",
            "ticks": ""
           }
          },
          "scene": {
           "xaxis": {
            "backgroundcolor": "#E5ECF6",
            "gridcolor": "white",
            "gridwidth": 2,
            "linecolor": "white",
            "showbackground": true,
            "ticks": "",
            "zerolinecolor": "white"
           },
           "yaxis": {
            "backgroundcolor": "#E5ECF6",
            "gridcolor": "white",
            "gridwidth": 2,
            "linecolor": "white",
            "showbackground": true,
            "ticks": "",
            "zerolinecolor": "white"
           },
           "zaxis": {
            "backgroundcolor": "#E5ECF6",
            "gridcolor": "white",
            "gridwidth": 2,
            "linecolor": "white",
            "showbackground": true,
            "ticks": "",
            "zerolinecolor": "white"
           }
          },
          "shapedefaults": {
           "line": {
            "color": "#2a3f5f"
           }
          },
          "ternary": {
           "aaxis": {
            "gridcolor": "white",
            "linecolor": "white",
            "ticks": ""
           },
           "baxis": {
            "gridcolor": "white",
            "linecolor": "white",
            "ticks": ""
           },
           "bgcolor": "#E5ECF6",
           "caxis": {
            "gridcolor": "white",
            "linecolor": "white",
            "ticks": ""
           }
          },
          "title": {
           "x": 0.05
          },
          "xaxis": {
           "automargin": true,
           "gridcolor": "white",
           "linecolor": "white",
           "ticks": "",
           "title": {
            "standoff": 15
           },
           "zerolinecolor": "white",
           "zerolinewidth": 2
          },
          "yaxis": {
           "automargin": true,
           "gridcolor": "white",
           "linecolor": "white",
           "ticks": "",
           "title": {
            "standoff": 15
           },
           "zerolinecolor": "white",
           "zerolinewidth": 2
          }
         }
        }
       }
      }
     },
     "metadata": {},
     "output_type": "display_data"
    }
   ],
   "source": [
    "plot_signal(noisy_signal, signal_corrected=None)"
   ]
  },
  {
   "cell_type": "code",
   "execution_count": null,
   "metadata": {},
   "outputs": [],
   "source": [
    "def remove_outliers_iqr_diffs(signal, outliers_threshold=1.5):\n",
    "\n",
    "    if outliers_threshold > 0.0:\n",
    "\n",
    "        differential_counts = np.abs(np.diff(signal, n=2, prepend=signal[0], append=signal[-1]))\n",
    "        q1, q3 = np.percentile(differential_counts, [25, 75])\n",
    "        iqr = q3 - q1\n",
    "        outliers_idxs = np.where((differential_counts < q1 - outliers_threshold * iqr) | (differential_counts > q3 + outliers_threshold *  iqr))[0]\n",
    "        outlier_groups =  np.split(outliers_idxs, np.where(np.diff(outliers_idxs)>1)[0]+1) #neighboring points are also classified as outliers. This groups an outlier and its neighbors\n",
    "        outliers_idxs_no_neighbors = [group[np.argmax(differential_counts[group])] for group in outlier_groups] #This select the outlier as the maximum value among its neigbors\n",
    "    else:\n",
    "        outliers_idxs_no_neighbors = []\n",
    "\n",
    "    signal_cleaned = signal.copy()\n",
    "    signal_cleaned[outliers_idxs_no_neighbors] = np.nan\n",
    "\n",
    "    return signal_cleaned\n",
    "\n",
    "cleaned_signal = remove_outliers_iqr_diffs(noisy_signal, outliers_threshold=1.5)\n",
    "plot_signal(noisy_signal, signal_corrected=cleaned_signal)"
   ]
  },
  {
   "cell_type": "code",
   "execution_count": null,
   "metadata": {},
   "outputs": [],
   "source": [
    "outliers_threshold = 1.5\n",
    "differential_counts = np.abs(np.diff(noisy_signal, n=2, prepend=noisy_signal[0], append=noisy_signal[-1]))\n",
    "q1,q3 = np.percentile(differential_counts, [25, 75])\n",
    "iqr = q3 - q1\n",
    "outliers_idxs = np.where((differential_counts < q1 - outliers_threshold * iqr) | (differential_counts > q3 + outliers_threshold *  iqr))[0]\n",
    "outlier_groups =  np.split(outliers_idxs, np.where(np.diff(outliers_idxs)>1)[0]+1)\n",
    "outliers_idxs_no_neighbors = [group[np.argmax(differential_counts[group])] for group in outlier_groups]\n",
    "\n",
    "# grouped_indices = np.split(outlier_indices, np.where(diffs != 1)[0])[1:]\n",
    "plot_signal(differential_counts)"
   ]
  },
  {
   "cell_type": "code",
   "execution_count": null,
   "metadata": {},
   "outputs": [],
   "source": [
    "outliers_idxs.size"
   ]
  },
  {
   "cell_type": "code",
   "execution_count": null,
   "metadata": {},
   "outputs": [],
   "source": [
    "outliers_idxs"
   ]
  },
  {
   "cell_type": "code",
   "execution_count": 52,
   "metadata": {},
   "outputs": [
    {
     "name": "stdout",
     "output_type": "stream",
     "text": [
      "[ 4 13 14 15 16 17 18 87 88 89]\n"
     ]
    },
    {
     "data": {
      "text/plain": [
       "[array([4], dtype=int64),\n",
       " array([13, 14, 15, 16, 17, 18], dtype=int64),\n",
       " array([87, 88, 89], dtype=int64)]"
      ]
     },
     "execution_count": 52,
     "metadata": {},
     "output_type": "execute_result"
    }
   ],
   "source": [
    "outliers_idxs\n",
    "print(outliers_idxs)\n",
    "groups = np.split(outliers_idxs, np.where(np.diff(outliers_idxs)>1)[0]+1)\n",
    "groups"
   ]
  },
  {
   "cell_type": "code",
   "execution_count": 60,
   "metadata": {},
   "outputs": [
    {
     "data": {
      "text/plain": [
       "[4, 14, 88]"
      ]
     },
     "execution_count": 60,
     "metadata": {},
     "output_type": "execute_result"
    }
   ],
   "source": [
    "outliers_idxs_no_neighbors"
   ]
  },
  {
   "cell_type": "code",
   "execution_count": null,
   "metadata": {},
   "outputs": [],
   "source": [
    "def remove_outliers_rollling(signal, window_size, threshold=1.5):\n",
    "    # Calculate rolling median using convolution\n",
    "    rolling_median = np.convolve(signal, np.ones(window_size)/window_size, mode='valid')\n",
    "\n",
    "    # Calculate residuals (absolute differences from the rolling median)\n",
    "    residuals = np.abs(signal[window_size-1:] - rolling_median)\n",
    "\n",
    "    # Calculate rolling IQR using percentile\n",
    "    rolling_iqr = np.percentile(np.abs(signal[window_size-1:] - rolling_median), 75, axis=0) - \\\n",
    "                  np.percentile(np.abs(signal[window_size-1:] - rolling_median), 25, axis=0)\n",
    "\n",
    "    # Identify outliers based on the threshold\n",
    "    outliers = residuals > threshold * rolling_iqr\n",
    "\n",
    "    # Create a mask to remove outliers\n",
    "    mask = np.ones(len(signal), dtype=bool)\n",
    "    mask[window_size-1:] = ~outliers\n",
    "\n",
    "    # Replace outliers with NaNs\n",
    "    cleaned_signal = signal.copy()\n",
    "    cleaned_signal[~mask] = np.nan\n",
    "\n",
    "    return cleaned_signal\n",
    "\n",
    "start_time = time.time()\n",
    "noisy_signal_rolling = remove_outliers_rollling(noisy_signal, window_size=10, threshold=1.5)\n",
    "print(time.time()-start_time)\n",
    "plot_signal(noisy_signal, signal_corrected=noisy_signal_rolling)"
   ]
  },
  {
   "cell_type": "code",
   "execution_count": 16,
   "metadata": {},
   "outputs": [
    {
     "name": "stdout",
     "output_type": "stream",
     "text": [
      "[4, 16, 24, 48, 77, 80]\n",
      "[  1.02734471   0.28366341   0.59481798  -0.09588152  -7.84995835\n",
      "  -1.13686863   0.11391808  -0.75033524  -1.38160315  -3.4657507\n",
      "  -4.4485638   -3.35811743  -3.2028435   -3.71120005  -3.94717774\n",
      "  -4.42898546   0.8340074   -4.46405464  -5.67755613  -7.74433377\n",
      "  -8.31015135  -9.43274104  -9.92944194 -12.52069934  -6.56221726\n",
      " -13.51629201 -13.43785218 -12.71762825 -12.54403071 -12.35545502\n",
      " -13.30795913 -13.37639089 -13.28050323 -10.96009583 -11.20788185\n",
      "  -9.44020475 -10.03046817 -10.57769647  -8.73648651  -8.40781641\n",
      "  -7.33048175  -8.30357975  -7.17817337  -6.18989341  -6.83678233\n",
      "  -5.44408779  -7.04566889  -7.02265182 -10.28090586  -8.7440281\n",
      " -10.46492883  -9.85897314  -9.90010601 -10.81006066 -11.20063996\n",
      " -11.38749597 -10.80775432 -10.28946137 -11.09379238  -9.52956796\n",
      "  -9.23461503 -10.1486298   -9.93107966  -8.44527754  -8.60647131\n",
      " -10.04630933 -10.21314931 -10.69960893 -11.36185737 -10.74369664\n",
      " -10.75900915 -10.64271124  -9.63920284  -8.95468563  -9.7292756\n",
      " -10.30997449  -8.27031703  -4.84988724  -5.74585243  -5.14027965\n",
      "   3.58306368  -5.43032283  -5.50218622  -5.19475858  -4.41411507\n",
      "  -4.24414844  -2.47456183  -2.24180042  -2.40724897  -4.12483124\n",
      "  -4.94210787  -3.29950706  -3.41936354  -3.61424114  -4.28282423\n",
      "  -5.25745661  -5.99010678  -7.29233489  -5.53982804  -4.76773388]\n"
     ]
    },
    {
     "data": {
      "application/vnd.plotly.v1+json": {
       "config": {
        "plotlyServerURL": "https://plot.ly"
       },
       "data": [
        {
         "mode": "markers",
         "name": "Noisy Signal",
         "type": "scatter",
         "x": [
          0,
          1,
          2,
          3,
          4,
          5,
          6,
          7,
          8,
          9,
          10,
          11,
          12,
          13,
          14,
          15,
          16,
          17,
          18,
          19,
          20,
          21,
          22,
          23,
          24,
          25,
          26,
          27,
          28,
          29,
          30,
          31,
          32,
          33,
          34,
          35,
          36,
          37,
          38,
          39,
          40,
          41,
          42,
          43,
          44,
          45,
          46,
          47,
          48,
          49,
          50,
          51,
          52,
          53,
          54,
          55,
          56,
          57,
          58,
          59,
          60,
          61,
          62,
          63,
          64,
          65,
          66,
          67,
          68,
          69,
          70,
          71,
          72,
          73,
          74,
          75,
          76,
          77,
          78,
          79,
          80,
          81,
          82,
          83,
          84,
          85,
          86,
          87,
          88,
          89,
          90,
          91,
          92,
          93,
          94,
          95,
          96,
          97,
          98,
          99
         ],
         "y": [
          1.0273447121899668,
          0.283663413093156,
          0.5948179816433399,
          -0.09588151894842034,
          -7.84995834783338,
          -1.1368686258617124,
          0.11391807554948752,
          -0.7503352382370556,
          -1.3816031535453173,
          -3.465750702030574,
          -4.448563802171369,
          -3.358117429423458,
          -3.2028435014522976,
          -3.7112000479456606,
          -3.947177740794493,
          -4.4289854610590735,
          0.8340073958143561,
          -4.464054637803328,
          -5.677556126771101,
          -7.744333772293899,
          -8.310151353974485,
          -9.432741040694953,
          -9.92944194232273,
          -12.520699342532806,
          -6.562217258189319,
          -13.516292005608374,
          -13.437852180723418,
          -12.71762825367014,
          -12.544030714302261,
          -12.355455015933154,
          -13.307959134313386,
          -13.376390893760847,
          -13.280503232063797,
          -10.960095827998453,
          -11.207881851613871,
          -9.440204746803403,
          -10.03046816610101,
          -10.577696472296937,
          -8.736486506912104,
          -8.407816405381018,
          -7.330481750474393,
          -8.303579746229286,
          -7.1781733710598115,
          -6.18989341233724,
          -6.836782333784736,
          -5.444087788683177,
          -7.045668885397333,
          -7.0226518164015,
          -10.28090585982993,
          -8.744028103211265,
          -10.464928827212853,
          -9.858973138023547,
          -9.900106005273328,
          -10.810060662245325,
          -11.20063995844817,
          -11.387495971883931,
          -10.8077543206566,
          -10.289461371497207,
          -11.093792381351992,
          -9.529567960230441,
          -9.234615028165534,
          -10.148629798122807,
          -9.931079656495232,
          -8.445277536512222,
          -8.606471305540587,
          -10.046309332356742,
          -10.213149313679942,
          -10.69960892857284,
          -11.361857373317276,
          -10.743696642975575,
          -10.759009149845841,
          -10.642711242075016,
          -9.639202841039767,
          -8.954685634113591,
          -9.72927560328285,
          -10.309974491829657,
          -8.270317029406378,
          -4.849887238374729,
          -5.745852425605684,
          -5.140279654525573,
          3.583063682630643,
          -5.430322830148996,
          -5.502186215874053,
          -5.194758578915287,
          -4.414115070654382,
          -4.244148437684353,
          -2.4745618336123183,
          -2.2418004237065645,
          -2.4072489703607154,
          -4.1248312441674795,
          -4.942107866357322,
          -3.299507060286213,
          -3.419363538205789,
          -3.614241137033044,
          -4.282824228728769,
          -5.2574566093709265,
          -5.990106780148995,
          -7.292334893282674,
          -5.539828039970289,
          -4.767733879537987
         ]
        },
        {
         "mode": "markers",
         "name": "Signal corrected",
         "type": "scatter",
         "x": [
          0,
          1,
          2,
          3,
          4,
          5,
          6,
          7,
          8,
          9,
          10,
          11,
          12,
          13,
          14,
          15,
          16,
          17,
          18,
          19,
          20,
          21,
          22,
          23,
          24,
          25,
          26,
          27,
          28,
          29,
          30,
          31,
          32,
          33,
          34,
          35,
          36,
          37,
          38,
          39,
          40,
          41,
          42,
          43,
          44,
          45,
          46,
          47,
          48,
          49,
          50,
          51,
          52,
          53,
          54,
          55,
          56,
          57,
          58,
          59,
          60,
          61,
          62,
          63,
          64,
          65,
          66,
          67,
          68,
          69,
          70,
          71,
          72,
          73,
          74,
          75,
          76,
          77,
          78,
          79,
          80,
          81,
          82,
          83,
          84,
          85,
          86,
          87,
          88,
          89,
          90,
          91,
          92,
          93,
          94,
          95,
          96,
          97,
          98,
          99
         ],
         "y": [
          1.0273447121899668,
          0.283663413093156,
          0.5948179816433399,
          -0.09588151894842034,
          null,
          -1.1368686258617124,
          0.11391807554948752,
          -0.7503352382370556,
          -1.3816031535453173,
          -3.465750702030574,
          -4.448563802171369,
          -3.358117429423458,
          -3.2028435014522976,
          -3.7112000479456606,
          -3.947177740794493,
          -4.4289854610590735,
          null,
          -4.464054637803328,
          -5.677556126771101,
          -7.744333772293899,
          -8.310151353974485,
          -9.432741040694953,
          -9.92944194232273,
          -12.520699342532806,
          null,
          -13.516292005608374,
          -13.437852180723418,
          -12.71762825367014,
          -12.544030714302261,
          -12.355455015933154,
          -13.307959134313386,
          -13.376390893760847,
          -13.280503232063797,
          -10.960095827998453,
          -11.207881851613871,
          -9.440204746803403,
          -10.03046816610101,
          -10.577696472296937,
          -8.736486506912104,
          -8.407816405381018,
          -7.330481750474393,
          -8.303579746229286,
          -7.1781733710598115,
          -6.18989341233724,
          -6.836782333784736,
          -5.444087788683177,
          -7.045668885397333,
          -7.0226518164015,
          null,
          -8.744028103211265,
          -10.464928827212853,
          -9.858973138023547,
          -9.900106005273328,
          -10.810060662245325,
          -11.20063995844817,
          -11.387495971883931,
          -10.8077543206566,
          -10.289461371497207,
          -11.093792381351992,
          -9.529567960230441,
          -9.234615028165534,
          -10.148629798122807,
          -9.931079656495232,
          -8.445277536512222,
          -8.606471305540587,
          -10.046309332356742,
          -10.213149313679942,
          -10.69960892857284,
          -11.361857373317276,
          -10.743696642975575,
          -10.759009149845841,
          -10.642711242075016,
          -9.639202841039767,
          -8.954685634113591,
          -9.72927560328285,
          -10.309974491829657,
          -8.270317029406378,
          null,
          -5.745852425605684,
          -5.140279654525573,
          null,
          -5.430322830148996,
          -5.502186215874053,
          -5.194758578915287,
          -4.414115070654382,
          -4.244148437684353,
          -2.4745618336123183,
          -2.2418004237065645,
          -2.4072489703607154,
          -4.1248312441674795,
          -4.942107866357322,
          -3.299507060286213,
          -3.419363538205789,
          -3.614241137033044,
          -4.282824228728769,
          -5.2574566093709265,
          -5.990106780148995,
          -7.292334893282674,
          -5.539828039970289,
          -4.767733879537987
         ]
        }
       ],
       "layout": {
        "template": {
         "data": {
          "bar": [
           {
            "error_x": {
             "color": "#2a3f5f"
            },
            "error_y": {
             "color": "#2a3f5f"
            },
            "marker": {
             "line": {
              "color": "#E5ECF6",
              "width": 0.5
             },
             "pattern": {
              "fillmode": "overlay",
              "size": 10,
              "solidity": 0.2
             }
            },
            "type": "bar"
           }
          ],
          "barpolar": [
           {
            "marker": {
             "line": {
              "color": "#E5ECF6",
              "width": 0.5
             },
             "pattern": {
              "fillmode": "overlay",
              "size": 10,
              "solidity": 0.2
             }
            },
            "type": "barpolar"
           }
          ],
          "carpet": [
           {
            "aaxis": {
             "endlinecolor": "#2a3f5f",
             "gridcolor": "white",
             "linecolor": "white",
             "minorgridcolor": "white",
             "startlinecolor": "#2a3f5f"
            },
            "baxis": {
             "endlinecolor": "#2a3f5f",
             "gridcolor": "white",
             "linecolor": "white",
             "minorgridcolor": "white",
             "startlinecolor": "#2a3f5f"
            },
            "type": "carpet"
           }
          ],
          "choropleth": [
           {
            "colorbar": {
             "outlinewidth": 0,
             "ticks": ""
            },
            "type": "choropleth"
           }
          ],
          "contour": [
           {
            "colorbar": {
             "outlinewidth": 0,
             "ticks": ""
            },
            "colorscale": [
             [
              0,
              "#0d0887"
             ],
             [
              0.1111111111111111,
              "#46039f"
             ],
             [
              0.2222222222222222,
              "#7201a8"
             ],
             [
              0.3333333333333333,
              "#9c179e"
             ],
             [
              0.4444444444444444,
              "#bd3786"
             ],
             [
              0.5555555555555556,
              "#d8576b"
             ],
             [
              0.6666666666666666,
              "#ed7953"
             ],
             [
              0.7777777777777778,
              "#fb9f3a"
             ],
             [
              0.8888888888888888,
              "#fdca26"
             ],
             [
              1,
              "#f0f921"
             ]
            ],
            "type": "contour"
           }
          ],
          "contourcarpet": [
           {
            "colorbar": {
             "outlinewidth": 0,
             "ticks": ""
            },
            "type": "contourcarpet"
           }
          ],
          "heatmap": [
           {
            "colorbar": {
             "outlinewidth": 0,
             "ticks": ""
            },
            "colorscale": [
             [
              0,
              "#0d0887"
             ],
             [
              0.1111111111111111,
              "#46039f"
             ],
             [
              0.2222222222222222,
              "#7201a8"
             ],
             [
              0.3333333333333333,
              "#9c179e"
             ],
             [
              0.4444444444444444,
              "#bd3786"
             ],
             [
              0.5555555555555556,
              "#d8576b"
             ],
             [
              0.6666666666666666,
              "#ed7953"
             ],
             [
              0.7777777777777778,
              "#fb9f3a"
             ],
             [
              0.8888888888888888,
              "#fdca26"
             ],
             [
              1,
              "#f0f921"
             ]
            ],
            "type": "heatmap"
           }
          ],
          "heatmapgl": [
           {
            "colorbar": {
             "outlinewidth": 0,
             "ticks": ""
            },
            "colorscale": [
             [
              0,
              "#0d0887"
             ],
             [
              0.1111111111111111,
              "#46039f"
             ],
             [
              0.2222222222222222,
              "#7201a8"
             ],
             [
              0.3333333333333333,
              "#9c179e"
             ],
             [
              0.4444444444444444,
              "#bd3786"
             ],
             [
              0.5555555555555556,
              "#d8576b"
             ],
             [
              0.6666666666666666,
              "#ed7953"
             ],
             [
              0.7777777777777778,
              "#fb9f3a"
             ],
             [
              0.8888888888888888,
              "#fdca26"
             ],
             [
              1,
              "#f0f921"
             ]
            ],
            "type": "heatmapgl"
           }
          ],
          "histogram": [
           {
            "marker": {
             "pattern": {
              "fillmode": "overlay",
              "size": 10,
              "solidity": 0.2
             }
            },
            "type": "histogram"
           }
          ],
          "histogram2d": [
           {
            "colorbar": {
             "outlinewidth": 0,
             "ticks": ""
            },
            "colorscale": [
             [
              0,
              "#0d0887"
             ],
             [
              0.1111111111111111,
              "#46039f"
             ],
             [
              0.2222222222222222,
              "#7201a8"
             ],
             [
              0.3333333333333333,
              "#9c179e"
             ],
             [
              0.4444444444444444,
              "#bd3786"
             ],
             [
              0.5555555555555556,
              "#d8576b"
             ],
             [
              0.6666666666666666,
              "#ed7953"
             ],
             [
              0.7777777777777778,
              "#fb9f3a"
             ],
             [
              0.8888888888888888,
              "#fdca26"
             ],
             [
              1,
              "#f0f921"
             ]
            ],
            "type": "histogram2d"
           }
          ],
          "histogram2dcontour": [
           {
            "colorbar": {
             "outlinewidth": 0,
             "ticks": ""
            },
            "colorscale": [
             [
              0,
              "#0d0887"
             ],
             [
              0.1111111111111111,
              "#46039f"
             ],
             [
              0.2222222222222222,
              "#7201a8"
             ],
             [
              0.3333333333333333,
              "#9c179e"
             ],
             [
              0.4444444444444444,
              "#bd3786"
             ],
             [
              0.5555555555555556,
              "#d8576b"
             ],
             [
              0.6666666666666666,
              "#ed7953"
             ],
             [
              0.7777777777777778,
              "#fb9f3a"
             ],
             [
              0.8888888888888888,
              "#fdca26"
             ],
             [
              1,
              "#f0f921"
             ]
            ],
            "type": "histogram2dcontour"
           }
          ],
          "mesh3d": [
           {
            "colorbar": {
             "outlinewidth": 0,
             "ticks": ""
            },
            "type": "mesh3d"
           }
          ],
          "parcoords": [
           {
            "line": {
             "colorbar": {
              "outlinewidth": 0,
              "ticks": ""
             }
            },
            "type": "parcoords"
           }
          ],
          "pie": [
           {
            "automargin": true,
            "type": "pie"
           }
          ],
          "scatter": [
           {
            "fillpattern": {
             "fillmode": "overlay",
             "size": 10,
             "solidity": 0.2
            },
            "type": "scatter"
           }
          ],
          "scatter3d": [
           {
            "line": {
             "colorbar": {
              "outlinewidth": 0,
              "ticks": ""
             }
            },
            "marker": {
             "colorbar": {
              "outlinewidth": 0,
              "ticks": ""
             }
            },
            "type": "scatter3d"
           }
          ],
          "scattercarpet": [
           {
            "marker": {
             "colorbar": {
              "outlinewidth": 0,
              "ticks": ""
             }
            },
            "type": "scattercarpet"
           }
          ],
          "scattergeo": [
           {
            "marker": {
             "colorbar": {
              "outlinewidth": 0,
              "ticks": ""
             }
            },
            "type": "scattergeo"
           }
          ],
          "scattergl": [
           {
            "marker": {
             "colorbar": {
              "outlinewidth": 0,
              "ticks": ""
             }
            },
            "type": "scattergl"
           }
          ],
          "scattermapbox": [
           {
            "marker": {
             "colorbar": {
              "outlinewidth": 0,
              "ticks": ""
             }
            },
            "type": "scattermapbox"
           }
          ],
          "scatterpolar": [
           {
            "marker": {
             "colorbar": {
              "outlinewidth": 0,
              "ticks": ""
             }
            },
            "type": "scatterpolar"
           }
          ],
          "scatterpolargl": [
           {
            "marker": {
             "colorbar": {
              "outlinewidth": 0,
              "ticks": ""
             }
            },
            "type": "scatterpolargl"
           }
          ],
          "scatterternary": [
           {
            "marker": {
             "colorbar": {
              "outlinewidth": 0,
              "ticks": ""
             }
            },
            "type": "scatterternary"
           }
          ],
          "surface": [
           {
            "colorbar": {
             "outlinewidth": 0,
             "ticks": ""
            },
            "colorscale": [
             [
              0,
              "#0d0887"
             ],
             [
              0.1111111111111111,
              "#46039f"
             ],
             [
              0.2222222222222222,
              "#7201a8"
             ],
             [
              0.3333333333333333,
              "#9c179e"
             ],
             [
              0.4444444444444444,
              "#bd3786"
             ],
             [
              0.5555555555555556,
              "#d8576b"
             ],
             [
              0.6666666666666666,
              "#ed7953"
             ],
             [
              0.7777777777777778,
              "#fb9f3a"
             ],
             [
              0.8888888888888888,
              "#fdca26"
             ],
             [
              1,
              "#f0f921"
             ]
            ],
            "type": "surface"
           }
          ],
          "table": [
           {
            "cells": {
             "fill": {
              "color": "#EBF0F8"
             },
             "line": {
              "color": "white"
             }
            },
            "header": {
             "fill": {
              "color": "#C8D4E3"
             },
             "line": {
              "color": "white"
             }
            },
            "type": "table"
           }
          ]
         },
         "layout": {
          "annotationdefaults": {
           "arrowcolor": "#2a3f5f",
           "arrowhead": 0,
           "arrowwidth": 1
          },
          "autotypenumbers": "strict",
          "coloraxis": {
           "colorbar": {
            "outlinewidth": 0,
            "ticks": ""
           }
          },
          "colorscale": {
           "diverging": [
            [
             0,
             "#8e0152"
            ],
            [
             0.1,
             "#c51b7d"
            ],
            [
             0.2,
             "#de77ae"
            ],
            [
             0.3,
             "#f1b6da"
            ],
            [
             0.4,
             "#fde0ef"
            ],
            [
             0.5,
             "#f7f7f7"
            ],
            [
             0.6,
             "#e6f5d0"
            ],
            [
             0.7,
             "#b8e186"
            ],
            [
             0.8,
             "#7fbc41"
            ],
            [
             0.9,
             "#4d9221"
            ],
            [
             1,
             "#276419"
            ]
           ],
           "sequential": [
            [
             0,
             "#0d0887"
            ],
            [
             0.1111111111111111,
             "#46039f"
            ],
            [
             0.2222222222222222,
             "#7201a8"
            ],
            [
             0.3333333333333333,
             "#9c179e"
            ],
            [
             0.4444444444444444,
             "#bd3786"
            ],
            [
             0.5555555555555556,
             "#d8576b"
            ],
            [
             0.6666666666666666,
             "#ed7953"
            ],
            [
             0.7777777777777778,
             "#fb9f3a"
            ],
            [
             0.8888888888888888,
             "#fdca26"
            ],
            [
             1,
             "#f0f921"
            ]
           ],
           "sequentialminus": [
            [
             0,
             "#0d0887"
            ],
            [
             0.1111111111111111,
             "#46039f"
            ],
            [
             0.2222222222222222,
             "#7201a8"
            ],
            [
             0.3333333333333333,
             "#9c179e"
            ],
            [
             0.4444444444444444,
             "#bd3786"
            ],
            [
             0.5555555555555556,
             "#d8576b"
            ],
            [
             0.6666666666666666,
             "#ed7953"
            ],
            [
             0.7777777777777778,
             "#fb9f3a"
            ],
            [
             0.8888888888888888,
             "#fdca26"
            ],
            [
             1,
             "#f0f921"
            ]
           ]
          },
          "colorway": [
           "#636efa",
           "#EF553B",
           "#00cc96",
           "#ab63fa",
           "#FFA15A",
           "#19d3f3",
           "#FF6692",
           "#B6E880",
           "#FF97FF",
           "#FECB52"
          ],
          "font": {
           "color": "#2a3f5f"
          },
          "geo": {
           "bgcolor": "white",
           "lakecolor": "white",
           "landcolor": "#E5ECF6",
           "showlakes": true,
           "showland": true,
           "subunitcolor": "white"
          },
          "hoverlabel": {
           "align": "left"
          },
          "hovermode": "closest",
          "mapbox": {
           "style": "light"
          },
          "paper_bgcolor": "white",
          "plot_bgcolor": "#E5ECF6",
          "polar": {
           "angularaxis": {
            "gridcolor": "white",
            "linecolor": "white",
            "ticks": ""
           },
           "bgcolor": "#E5ECF6",
           "radialaxis": {
            "gridcolor": "white",
            "linecolor": "white",
            "ticks": ""
           }
          },
          "scene": {
           "xaxis": {
            "backgroundcolor": "#E5ECF6",
            "gridcolor": "white",
            "gridwidth": 2,
            "linecolor": "white",
            "showbackground": true,
            "ticks": "",
            "zerolinecolor": "white"
           },
           "yaxis": {
            "backgroundcolor": "#E5ECF6",
            "gridcolor": "white",
            "gridwidth": 2,
            "linecolor": "white",
            "showbackground": true,
            "ticks": "",
            "zerolinecolor": "white"
           },
           "zaxis": {
            "backgroundcolor": "#E5ECF6",
            "gridcolor": "white",
            "gridwidth": 2,
            "linecolor": "white",
            "showbackground": true,
            "ticks": "",
            "zerolinecolor": "white"
           }
          },
          "shapedefaults": {
           "line": {
            "color": "#2a3f5f"
           }
          },
          "ternary": {
           "aaxis": {
            "gridcolor": "white",
            "linecolor": "white",
            "ticks": ""
           },
           "baxis": {
            "gridcolor": "white",
            "linecolor": "white",
            "ticks": ""
           },
           "bgcolor": "#E5ECF6",
           "caxis": {
            "gridcolor": "white",
            "linecolor": "white",
            "ticks": ""
           }
          },
          "title": {
           "x": 0.05
          },
          "xaxis": {
           "automargin": true,
           "gridcolor": "white",
           "linecolor": "white",
           "ticks": "",
           "title": {
            "standoff": 15
           },
           "zerolinecolor": "white",
           "zerolinewidth": 2
          },
          "yaxis": {
           "automargin": true,
           "gridcolor": "white",
           "linecolor": "white",
           "ticks": "",
           "title": {
            "standoff": 15
           },
           "zerolinecolor": "white",
           "zerolinewidth": 2
          }
         }
        }
       }
      }
     },
     "metadata": {},
     "output_type": "display_data"
    }
   ],
   "source": [
    "outliers_threshold=0.5\n",
    "    \n",
    "if outliers_threshold > 0.0:\n",
    "\n",
    "    differential_counts = np.abs(np.diff(noisy_signal, n=2, prepend=noisy_signal[0], append=noisy_signal[-1]))\n",
    "    q1, q3 = np.percentile(differential_counts, [25, 75])\n",
    "    iqr = q3 - q1\n",
    "\n",
    "    outliers_idxs = np.where((differential_counts < q1 - outliers_threshold * iqr) | (differential_counts > q3 + outliers_threshold *  iqr))[0]\n",
    "\n",
    "    if outliers_idxs.size != 0: #if there are no outliers\n",
    " \n",
    "        outlier_groups =  np.split(outliers_idxs, np.where(np.diff(outliers_idxs)>1)[0]+1) #neighboring points are also classified as outliers. This groups an outlier and its neighbors\n",
    "        outliers_idxs_no_neighbors = [group[np.argmax(differential_counts[group])] for group in outlier_groups] #This select the outlier as the maximum value among its neigbors\n",
    "        print(outliers_idxs_no_neighbors)\n",
    "        print(noisy_signal)\n",
    "\n",
    "        new_counts = noisy_signal.copy()\n",
    "        new_counts[outliers_idxs_no_neighbors] = np.nan\n",
    "\n",
    "else:\n",
    "    new_counts = noisy_signal\n",
    "\n",
    "\n",
    "plot_signal(noisy_signal, signal_corrected=new_counts)"
   ]
  },
  {
   "cell_type": "code",
   "execution_count": 19,
   "metadata": {},
   "outputs": [
    {
     "data": {
      "application/vnd.plotly.v1+json": {
       "config": {
        "plotlyServerURL": "https://plot.ly"
       },
       "data": [
        {
         "mode": "markers",
         "name": "Noisy Signal",
         "type": "scatter",
         "x": [
          0,
          1,
          2,
          3,
          4,
          5,
          6,
          7,
          8,
          9,
          10,
          11,
          12,
          13,
          14,
          15,
          16,
          17,
          18,
          19,
          20,
          21,
          22,
          23,
          24,
          25,
          26,
          27,
          28,
          29,
          30,
          31,
          32,
          33,
          34,
          35,
          36,
          37,
          38,
          39,
          40,
          41,
          42,
          43,
          44,
          45,
          46,
          47,
          48,
          49,
          50,
          51,
          52,
          53,
          54,
          55,
          56,
          57,
          58,
          59,
          60,
          61,
          62,
          63,
          64,
          65,
          66,
          67,
          68,
          69,
          70,
          71,
          72,
          73,
          74,
          75,
          76,
          77,
          78,
          79,
          80,
          81,
          82,
          83,
          84,
          85,
          86,
          87,
          88,
          89,
          90,
          91,
          92,
          93,
          94,
          95,
          96,
          97,
          98,
          99
         ],
         "y": [
          1.0273447121899668,
          0.283663413093156,
          0.5948179816433399,
          -0.09588151894842034,
          -7.84995834783338,
          -1.1368686258617124,
          0.11391807554948752,
          -0.7503352382370556,
          -1.3816031535453173,
          -3.465750702030574,
          -4.448563802171369,
          -3.358117429423458,
          -3.2028435014522976,
          -3.7112000479456606,
          -3.947177740794493,
          -4.4289854610590735,
          0.8340073958143561,
          -4.464054637803328,
          -5.677556126771101,
          -7.744333772293899,
          -8.310151353974485,
          -9.432741040694953,
          -9.92944194232273,
          -12.520699342532806,
          -6.562217258189319,
          -13.516292005608374,
          -13.437852180723418,
          -12.71762825367014,
          -12.544030714302261,
          -12.355455015933154,
          -13.307959134313386,
          -13.376390893760847,
          -13.280503232063797,
          -10.960095827998453,
          -11.207881851613871,
          -9.440204746803403,
          -10.03046816610101,
          -10.577696472296937,
          -8.736486506912104,
          -8.407816405381018,
          -7.330481750474393,
          -8.303579746229286,
          -7.1781733710598115,
          -6.18989341233724,
          -6.836782333784736,
          -5.444087788683177,
          -7.045668885397333,
          -7.0226518164015,
          -10.28090585982993,
          -8.744028103211265,
          -10.464928827212853,
          -9.858973138023547,
          -9.900106005273328,
          -10.810060662245325,
          -11.20063995844817,
          -11.387495971883931,
          -10.8077543206566,
          -10.289461371497207,
          -11.093792381351992,
          -9.529567960230441,
          -9.234615028165534,
          -10.148629798122807,
          -9.931079656495232,
          -8.445277536512222,
          -8.606471305540587,
          -10.046309332356742,
          -10.213149313679942,
          -10.69960892857284,
          -11.361857373317276,
          -10.743696642975575,
          -10.759009149845841,
          -10.642711242075016,
          -9.639202841039767,
          -8.954685634113591,
          -9.72927560328285,
          -10.309974491829657,
          -8.270317029406378,
          -4.849887238374729,
          -5.745852425605684,
          -5.140279654525573,
          3.583063682630643,
          -5.430322830148996,
          -5.502186215874053,
          -5.194758578915287,
          -4.414115070654382,
          -4.244148437684353,
          -2.4745618336123183,
          -2.2418004237065645,
          -2.4072489703607154,
          -4.1248312441674795,
          -4.942107866357322,
          -3.299507060286213,
          -3.419363538205789,
          -3.614241137033044,
          -4.282824228728769,
          -5.2574566093709265,
          -5.990106780148995,
          -7.292334893282674,
          -5.539828039970289,
          -4.767733879537987
         ]
        },
        {
         "mode": "markers",
         "name": "Signal corrected",
         "type": "scatter",
         "x": [
          0,
          1,
          2,
          3,
          4,
          5,
          6,
          7,
          8,
          9,
          10,
          11,
          12,
          13,
          14,
          15,
          16,
          17,
          18,
          19,
          20,
          21,
          22,
          23,
          24,
          25,
          26,
          27,
          28,
          29,
          30,
          31,
          32,
          33,
          34,
          35,
          36,
          37,
          38,
          39,
          40,
          41,
          42,
          43,
          44,
          45,
          46,
          47,
          48,
          49,
          50,
          51,
          52,
          53,
          54,
          55,
          56,
          57,
          58,
          59,
          60,
          61,
          62,
          63,
          64,
          65,
          66,
          67,
          68,
          69,
          70,
          71,
          72,
          73,
          74,
          75,
          76,
          77,
          78,
          79,
          80,
          81,
          82,
          83,
          84,
          85,
          86,
          87,
          88,
          89,
          90,
          91,
          92,
          93,
          94,
          95,
          96,
          97,
          98,
          99
         ],
         "y": [
          1.0273447121899668,
          0.283663413093156,
          0.5948179816433399,
          -0.09588151894842034,
          -0.6163750724050664,
          -1.1368686258617124,
          0.11391807554948752,
          -0.7503352382370556,
          -1.3816031535453173,
          -3.465750702030574,
          -4.448563802171369,
          -3.358117429423458,
          -3.2028435014522976,
          -3.7112000479456606,
          -3.947177740794493,
          -4.4289854610590735,
          -4.446520049431201,
          -4.464054637803328,
          -5.677556126771101,
          -7.744333772293899,
          -8.310151353974485,
          -9.432741040694953,
          -9.92944194232273,
          -12.520699342532806,
          -13.01849567407059,
          -13.516292005608374,
          -13.437852180723418,
          -12.71762825367014,
          -12.544030714302261,
          -12.355455015933154,
          -13.307959134313386,
          -13.376390893760847,
          -13.280503232063797,
          -10.960095827998453,
          -11.207881851613871,
          -9.440204746803403,
          -10.03046816610101,
          -10.577696472296937,
          -8.736486506912104,
          -8.407816405381018,
          -7.330481750474393,
          -8.303579746229286,
          -7.1781733710598115,
          -6.18989341233724,
          -6.836782333784736,
          -5.444087788683177,
          -7.045668885397333,
          -7.0226518164015,
          -7.883339959806383,
          -8.744028103211265,
          -10.464928827212853,
          -9.858973138023547,
          -9.900106005273328,
          -10.810060662245325,
          -11.20063995844817,
          -11.387495971883931,
          -10.8077543206566,
          -10.289461371497207,
          -11.093792381351992,
          -9.529567960230441,
          -9.234615028165534,
          -10.148629798122807,
          -9.931079656495232,
          -8.445277536512222,
          -8.606471305540587,
          -10.046309332356742,
          -10.213149313679942,
          -10.69960892857284,
          -11.361857373317276,
          -10.743696642975575,
          -10.759009149845841,
          -10.642711242075016,
          -9.639202841039767,
          -8.954685634113591,
          -9.72927560328285,
          -10.309974491829657,
          -8.270317029406378,
          -7.008084727506031,
          -5.745852425605684,
          -5.140279654525573,
          -5.285301242337285,
          -5.430322830148996,
          -5.502186215874053,
          -5.194758578915287,
          -4.414115070654382,
          -4.244148437684353,
          -2.4745618336123183,
          -2.2418004237065645,
          -2.4072489703607154,
          -4.1248312441674795,
          -4.942107866357322,
          -3.299507060286213,
          -3.419363538205789,
          -3.614241137033044,
          -4.282824228728769,
          -5.2574566093709265,
          -5.990106780148995,
          -7.292334893282674,
          -5.539828039970289,
          -4.767733879537987
         ]
        }
       ],
       "layout": {
        "template": {
         "data": {
          "bar": [
           {
            "error_x": {
             "color": "#2a3f5f"
            },
            "error_y": {
             "color": "#2a3f5f"
            },
            "marker": {
             "line": {
              "color": "#E5ECF6",
              "width": 0.5
             },
             "pattern": {
              "fillmode": "overlay",
              "size": 10,
              "solidity": 0.2
             }
            },
            "type": "bar"
           }
          ],
          "barpolar": [
           {
            "marker": {
             "line": {
              "color": "#E5ECF6",
              "width": 0.5
             },
             "pattern": {
              "fillmode": "overlay",
              "size": 10,
              "solidity": 0.2
             }
            },
            "type": "barpolar"
           }
          ],
          "carpet": [
           {
            "aaxis": {
             "endlinecolor": "#2a3f5f",
             "gridcolor": "white",
             "linecolor": "white",
             "minorgridcolor": "white",
             "startlinecolor": "#2a3f5f"
            },
            "baxis": {
             "endlinecolor": "#2a3f5f",
             "gridcolor": "white",
             "linecolor": "white",
             "minorgridcolor": "white",
             "startlinecolor": "#2a3f5f"
            },
            "type": "carpet"
           }
          ],
          "choropleth": [
           {
            "colorbar": {
             "outlinewidth": 0,
             "ticks": ""
            },
            "type": "choropleth"
           }
          ],
          "contour": [
           {
            "colorbar": {
             "outlinewidth": 0,
             "ticks": ""
            },
            "colorscale": [
             [
              0,
              "#0d0887"
             ],
             [
              0.1111111111111111,
              "#46039f"
             ],
             [
              0.2222222222222222,
              "#7201a8"
             ],
             [
              0.3333333333333333,
              "#9c179e"
             ],
             [
              0.4444444444444444,
              "#bd3786"
             ],
             [
              0.5555555555555556,
              "#d8576b"
             ],
             [
              0.6666666666666666,
              "#ed7953"
             ],
             [
              0.7777777777777778,
              "#fb9f3a"
             ],
             [
              0.8888888888888888,
              "#fdca26"
             ],
             [
              1,
              "#f0f921"
             ]
            ],
            "type": "contour"
           }
          ],
          "contourcarpet": [
           {
            "colorbar": {
             "outlinewidth": 0,
             "ticks": ""
            },
            "type": "contourcarpet"
           }
          ],
          "heatmap": [
           {
            "colorbar": {
             "outlinewidth": 0,
             "ticks": ""
            },
            "colorscale": [
             [
              0,
              "#0d0887"
             ],
             [
              0.1111111111111111,
              "#46039f"
             ],
             [
              0.2222222222222222,
              "#7201a8"
             ],
             [
              0.3333333333333333,
              "#9c179e"
             ],
             [
              0.4444444444444444,
              "#bd3786"
             ],
             [
              0.5555555555555556,
              "#d8576b"
             ],
             [
              0.6666666666666666,
              "#ed7953"
             ],
             [
              0.7777777777777778,
              "#fb9f3a"
             ],
             [
              0.8888888888888888,
              "#fdca26"
             ],
             [
              1,
              "#f0f921"
             ]
            ],
            "type": "heatmap"
           }
          ],
          "heatmapgl": [
           {
            "colorbar": {
             "outlinewidth": 0,
             "ticks": ""
            },
            "colorscale": [
             [
              0,
              "#0d0887"
             ],
             [
              0.1111111111111111,
              "#46039f"
             ],
             [
              0.2222222222222222,
              "#7201a8"
             ],
             [
              0.3333333333333333,
              "#9c179e"
             ],
             [
              0.4444444444444444,
              "#bd3786"
             ],
             [
              0.5555555555555556,
              "#d8576b"
             ],
             [
              0.6666666666666666,
              "#ed7953"
             ],
             [
              0.7777777777777778,
              "#fb9f3a"
             ],
             [
              0.8888888888888888,
              "#fdca26"
             ],
             [
              1,
              "#f0f921"
             ]
            ],
            "type": "heatmapgl"
           }
          ],
          "histogram": [
           {
            "marker": {
             "pattern": {
              "fillmode": "overlay",
              "size": 10,
              "solidity": 0.2
             }
            },
            "type": "histogram"
           }
          ],
          "histogram2d": [
           {
            "colorbar": {
             "outlinewidth": 0,
             "ticks": ""
            },
            "colorscale": [
             [
              0,
              "#0d0887"
             ],
             [
              0.1111111111111111,
              "#46039f"
             ],
             [
              0.2222222222222222,
              "#7201a8"
             ],
             [
              0.3333333333333333,
              "#9c179e"
             ],
             [
              0.4444444444444444,
              "#bd3786"
             ],
             [
              0.5555555555555556,
              "#d8576b"
             ],
             [
              0.6666666666666666,
              "#ed7953"
             ],
             [
              0.7777777777777778,
              "#fb9f3a"
             ],
             [
              0.8888888888888888,
              "#fdca26"
             ],
             [
              1,
              "#f0f921"
             ]
            ],
            "type": "histogram2d"
           }
          ],
          "histogram2dcontour": [
           {
            "colorbar": {
             "outlinewidth": 0,
             "ticks": ""
            },
            "colorscale": [
             [
              0,
              "#0d0887"
             ],
             [
              0.1111111111111111,
              "#46039f"
             ],
             [
              0.2222222222222222,
              "#7201a8"
             ],
             [
              0.3333333333333333,
              "#9c179e"
             ],
             [
              0.4444444444444444,
              "#bd3786"
             ],
             [
              0.5555555555555556,
              "#d8576b"
             ],
             [
              0.6666666666666666,
              "#ed7953"
             ],
             [
              0.7777777777777778,
              "#fb9f3a"
             ],
             [
              0.8888888888888888,
              "#fdca26"
             ],
             [
              1,
              "#f0f921"
             ]
            ],
            "type": "histogram2dcontour"
           }
          ],
          "mesh3d": [
           {
            "colorbar": {
             "outlinewidth": 0,
             "ticks": ""
            },
            "type": "mesh3d"
           }
          ],
          "parcoords": [
           {
            "line": {
             "colorbar": {
              "outlinewidth": 0,
              "ticks": ""
             }
            },
            "type": "parcoords"
           }
          ],
          "pie": [
           {
            "automargin": true,
            "type": "pie"
           }
          ],
          "scatter": [
           {
            "fillpattern": {
             "fillmode": "overlay",
             "size": 10,
             "solidity": 0.2
            },
            "type": "scatter"
           }
          ],
          "scatter3d": [
           {
            "line": {
             "colorbar": {
              "outlinewidth": 0,
              "ticks": ""
             }
            },
            "marker": {
             "colorbar": {
              "outlinewidth": 0,
              "ticks": ""
             }
            },
            "type": "scatter3d"
           }
          ],
          "scattercarpet": [
           {
            "marker": {
             "colorbar": {
              "outlinewidth": 0,
              "ticks": ""
             }
            },
            "type": "scattercarpet"
           }
          ],
          "scattergeo": [
           {
            "marker": {
             "colorbar": {
              "outlinewidth": 0,
              "ticks": ""
             }
            },
            "type": "scattergeo"
           }
          ],
          "scattergl": [
           {
            "marker": {
             "colorbar": {
              "outlinewidth": 0,
              "ticks": ""
             }
            },
            "type": "scattergl"
           }
          ],
          "scattermapbox": [
           {
            "marker": {
             "colorbar": {
              "outlinewidth": 0,
              "ticks": ""
             }
            },
            "type": "scattermapbox"
           }
          ],
          "scatterpolar": [
           {
            "marker": {
             "colorbar": {
              "outlinewidth": 0,
              "ticks": ""
             }
            },
            "type": "scatterpolar"
           }
          ],
          "scatterpolargl": [
           {
            "marker": {
             "colorbar": {
              "outlinewidth": 0,
              "ticks": ""
             }
            },
            "type": "scatterpolargl"
           }
          ],
          "scatterternary": [
           {
            "marker": {
             "colorbar": {
              "outlinewidth": 0,
              "ticks": ""
             }
            },
            "type": "scatterternary"
           }
          ],
          "surface": [
           {
            "colorbar": {
             "outlinewidth": 0,
             "ticks": ""
            },
            "colorscale": [
             [
              0,
              "#0d0887"
             ],
             [
              0.1111111111111111,
              "#46039f"
             ],
             [
              0.2222222222222222,
              "#7201a8"
             ],
             [
              0.3333333333333333,
              "#9c179e"
             ],
             [
              0.4444444444444444,
              "#bd3786"
             ],
             [
              0.5555555555555556,
              "#d8576b"
             ],
             [
              0.6666666666666666,
              "#ed7953"
             ],
             [
              0.7777777777777778,
              "#fb9f3a"
             ],
             [
              0.8888888888888888,
              "#fdca26"
             ],
             [
              1,
              "#f0f921"
             ]
            ],
            "type": "surface"
           }
          ],
          "table": [
           {
            "cells": {
             "fill": {
              "color": "#EBF0F8"
             },
             "line": {
              "color": "white"
             }
            },
            "header": {
             "fill": {
              "color": "#C8D4E3"
             },
             "line": {
              "color": "white"
             }
            },
            "type": "table"
           }
          ]
         },
         "layout": {
          "annotationdefaults": {
           "arrowcolor": "#2a3f5f",
           "arrowhead": 0,
           "arrowwidth": 1
          },
          "autotypenumbers": "strict",
          "coloraxis": {
           "colorbar": {
            "outlinewidth": 0,
            "ticks": ""
           }
          },
          "colorscale": {
           "diverging": [
            [
             0,
             "#8e0152"
            ],
            [
             0.1,
             "#c51b7d"
            ],
            [
             0.2,
             "#de77ae"
            ],
            [
             0.3,
             "#f1b6da"
            ],
            [
             0.4,
             "#fde0ef"
            ],
            [
             0.5,
             "#f7f7f7"
            ],
            [
             0.6,
             "#e6f5d0"
            ],
            [
             0.7,
             "#b8e186"
            ],
            [
             0.8,
             "#7fbc41"
            ],
            [
             0.9,
             "#4d9221"
            ],
            [
             1,
             "#276419"
            ]
           ],
           "sequential": [
            [
             0,
             "#0d0887"
            ],
            [
             0.1111111111111111,
             "#46039f"
            ],
            [
             0.2222222222222222,
             "#7201a8"
            ],
            [
             0.3333333333333333,
             "#9c179e"
            ],
            [
             0.4444444444444444,
             "#bd3786"
            ],
            [
             0.5555555555555556,
             "#d8576b"
            ],
            [
             0.6666666666666666,
             "#ed7953"
            ],
            [
             0.7777777777777778,
             "#fb9f3a"
            ],
            [
             0.8888888888888888,
             "#fdca26"
            ],
            [
             1,
             "#f0f921"
            ]
           ],
           "sequentialminus": [
            [
             0,
             "#0d0887"
            ],
            [
             0.1111111111111111,
             "#46039f"
            ],
            [
             0.2222222222222222,
             "#7201a8"
            ],
            [
             0.3333333333333333,
             "#9c179e"
            ],
            [
             0.4444444444444444,
             "#bd3786"
            ],
            [
             0.5555555555555556,
             "#d8576b"
            ],
            [
             0.6666666666666666,
             "#ed7953"
            ],
            [
             0.7777777777777778,
             "#fb9f3a"
            ],
            [
             0.8888888888888888,
             "#fdca26"
            ],
            [
             1,
             "#f0f921"
            ]
           ]
          },
          "colorway": [
           "#636efa",
           "#EF553B",
           "#00cc96",
           "#ab63fa",
           "#FFA15A",
           "#19d3f3",
           "#FF6692",
           "#B6E880",
           "#FF97FF",
           "#FECB52"
          ],
          "font": {
           "color": "#2a3f5f"
          },
          "geo": {
           "bgcolor": "white",
           "lakecolor": "white",
           "landcolor": "#E5ECF6",
           "showlakes": true,
           "showland": true,
           "subunitcolor": "white"
          },
          "hoverlabel": {
           "align": "left"
          },
          "hovermode": "closest",
          "mapbox": {
           "style": "light"
          },
          "paper_bgcolor": "white",
          "plot_bgcolor": "#E5ECF6",
          "polar": {
           "angularaxis": {
            "gridcolor": "white",
            "linecolor": "white",
            "ticks": ""
           },
           "bgcolor": "#E5ECF6",
           "radialaxis": {
            "gridcolor": "white",
            "linecolor": "white",
            "ticks": ""
           }
          },
          "scene": {
           "xaxis": {
            "backgroundcolor": "#E5ECF6",
            "gridcolor": "white",
            "gridwidth": 2,
            "linecolor": "white",
            "showbackground": true,
            "ticks": "",
            "zerolinecolor": "white"
           },
           "yaxis": {
            "backgroundcolor": "#E5ECF6",
            "gridcolor": "white",
            "gridwidth": 2,
            "linecolor": "white",
            "showbackground": true,
            "ticks": "",
            "zerolinecolor": "white"
           },
           "zaxis": {
            "backgroundcolor": "#E5ECF6",
            "gridcolor": "white",
            "gridwidth": 2,
            "linecolor": "white",
            "showbackground": true,
            "ticks": "",
            "zerolinecolor": "white"
           }
          },
          "shapedefaults": {
           "line": {
            "color": "#2a3f5f"
           }
          },
          "ternary": {
           "aaxis": {
            "gridcolor": "white",
            "linecolor": "white",
            "ticks": ""
           },
           "baxis": {
            "gridcolor": "white",
            "linecolor": "white",
            "ticks": ""
           },
           "bgcolor": "#E5ECF6",
           "caxis": {
            "gridcolor": "white",
            "linecolor": "white",
            "ticks": ""
           }
          },
          "title": {
           "x": 0.05
          },
          "xaxis": {
           "automargin": true,
           "gridcolor": "white",
           "linecolor": "white",
           "ticks": "",
           "title": {
            "standoff": 15
           },
           "zerolinecolor": "white",
           "zerolinewidth": 2
          },
          "yaxis": {
           "automargin": true,
           "gridcolor": "white",
           "linecolor": "white",
           "ticks": "",
           "title": {
            "standoff": 15
           },
           "zerolinecolor": "white",
           "zerolinewidth": 2
          }
         }
        }
       }
      }
     },
     "metadata": {},
     "output_type": "display_data"
    },
    {
     "data": {
      "text/plain": [
       "array([False, False, False, False,  True, False, False, False, False,\n",
       "       False, False, False, False, False, False, False,  True, False,\n",
       "       False, False, False, False, False, False,  True, False, False,\n",
       "       False, False, False, False, False, False, False, False, False,\n",
       "       False, False, False, False, False, False, False, False, False,\n",
       "       False, False, False,  True, False, False, False, False, False,\n",
       "       False, False, False, False, False, False, False, False, False,\n",
       "       False, False, False, False, False, False, False, False, False,\n",
       "       False, False, False, False, False,  True, False, False,  True,\n",
       "       False, False, False, False, False, False, False, False, False,\n",
       "       False, False, False, False, False, False, False, False, False,\n",
       "       False])"
      ]
     },
     "execution_count": 19,
     "metadata": {},
     "output_type": "execute_result"
    }
   ],
   "source": [
    "xxxx = np.interp(np.arange(len(new_counts)), \n",
    "          np.arange(len(new_counts))[~np.isnan(new_counts)], \n",
    "          new_counts[np.isnan(new_counts) == False])\n",
    "plot_signal(noisy_signal, signal_corrected=xxxx)\n",
    "np.isnan(new_counts)"
   ]
  },
  {
   "cell_type": "markdown",
   "metadata": {},
   "source": [
    "# General code tests"
   ]
  },
  {
   "cell_type": "code",
   "execution_count": 64,
   "metadata": {},
   "outputs": [],
   "source": [
    "import pandas as pd"
   ]
  },
  {
   "cell_type": "code",
   "execution_count": 66,
   "metadata": {},
   "outputs": [
    {
     "name": "stdout",
     "output_type": "stream",
     "text": [
      "[(1, 'A'), (2, 'B'), (3, 'C'), (4, 'D')] ['D', 'E', 'F', 'G']\n"
     ]
    }
   ],
   "source": [
    "data = {\n",
    "    'column_1': [1, 2, 3, 4],\n",
    "    'column_2': ['A', 'B', 'C', 'D'],\n",
    "    'column_3': ['D', 'E', 'F', 'G']\n",
    "}\n",
    "df = pd.DataFrame(data)\n",
    "\n",
    "# Getting the values of the first two columns into a list of tuples\n",
    "list_of_tuples = list(zip(df['column_1'], df['column_2']))\n",
    "third_col = df['column_3'].to_list()\n",
    "print(list_of_tuples, third_col)"
   ]
  }
 ],
 "metadata": {
  "kernelspec": {
   "display_name": "venv-prisma",
   "language": "python",
   "name": "python3"
  },
  "language_info": {
   "codemirror_mode": {
    "name": "ipython",
    "version": 3
   },
   "file_extension": ".py",
   "mimetype": "text/x-python",
   "name": "python",
   "nbconvert_exporter": "python",
   "pygments_lexer": "ipython3",
   "version": "3.10.6"
  }
 },
 "nbformat": 4,
 "nbformat_minor": 2
}
