{
 "cells": [
  {
   "cell_type": "code",
   "execution_count": 1,
   "metadata": {},
   "outputs": [
    {
     "ename": "ModuleNotFoundError",
     "evalue": "No module named 'prisma'",
     "output_type": "error",
     "traceback": [
      "\u001b[1;31m---------------------------------------------------------------------------\u001b[0m",
      "\u001b[1;31mModuleNotFoundError\u001b[0m                       Traceback (most recent call last)",
      "\u001b[1;32mc:\\Users\\eibarc\\OneDrive - SINTEF\\Documents\\Project BIGMAP\\Repos\\PRISMA\\tests\\test_imports.ipynb Cell 1\u001b[0m line \u001b[0;36m1\n\u001b[1;32m----> <a href='vscode-notebook-cell:/c%3A/Users/eibarc/OneDrive%20-%20SINTEF/Documents/Project%20BIGMAP/Repos/PRISMA/tests/test_imports.ipynb#W0sZmlsZQ%3D%3D?line=0'>1</a>\u001b[0m \u001b[39mfrom\u001b[39;00m \u001b[39mprisma\u001b[39;00m \u001b[39mimport\u001b[39;00m baselines\n",
      "\u001b[1;31mModuleNotFoundError\u001b[0m: No module named 'prisma'"
     ]
    }
   ],
   "source": [
    "from prisma import baselines"
   ]
  }
 ],
 "metadata": {
  "kernelspec": {
   "display_name": "venv-prisma",
   "language": "python",
   "name": "python3"
  },
  "language_info": {
   "codemirror_mode": {
    "name": "ipython",
    "version": 3
   },
   "file_extension": ".py",
   "mimetype": "text/x-python",
   "name": "python",
   "nbconvert_exporter": "python",
   "pygments_lexer": "ipython3",
   "version": "3.10.6"
  }
 },
 "nbformat": 4,
 "nbformat_minor": 2
}
