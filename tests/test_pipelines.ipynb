{
 "cells": [
  {
   "cell_type": "code",
   "execution_count": 1,
   "id": "entertaining-toronto",
   "metadata": {},
   "outputs": [],
   "source": [
    "# from pipelines.baseline import BaselineCorrection\n",
    "# subapp = BaselineCorrection()\n",
    "# subapp.interface"
   ]
  },
  {
   "cell_type": "code",
   "execution_count": 2,
   "id": "extreme-sauce",
   "metadata": {},
   "outputs": [],
   "source": [
    "# from pipelines.peakfit import PeakFitting\n",
    "# subapp = PeakFitting()\n",
    "# subapp.interface"
   ]
  },
  {
   "cell_type": "code",
   "execution_count": 3,
   "id": "outstanding-genetics",
   "metadata": {},
   "outputs": [
    {
     "data": {
      "application/vnd.jupyter.widget-view+json": {
       "model_id": "0c6d023423a94597a73e76d1c01f4454",
       "version_major": 2,
       "version_minor": 0
      },
      "text/plain": [
       "VBox(children=(HBox(children=(VBox(children=(HTML(value='<h3>Manage Spectra</h3>'), VBox(children=(Dropdown(de…"
      ]
     },
     "metadata": {},
     "output_type": "display_data"
    }
   ],
   "source": [
    "from pipelines.baseline_peakfit import BaselinePeakFitting\n",
    "subapp = BaselinePeakFitting()\n",
    "subapp.interface"
   ]
  },
  {
   "cell_type": "code",
   "execution_count": 4,
   "id": "stretch-documentation",
   "metadata": {},
   "outputs": [
    {
     "data": {
      "text/plain": [
       "'my {} string'"
      ]
     },
     "execution_count": 4,
     "metadata": {},
     "output_type": "execute_result"
    }
   ],
   "source": [
    "'my {} string'"
   ]
  },
  {
   "cell_type": "code",
   "execution_count": null,
   "id": "unlimited-letter",
   "metadata": {},
   "outputs": [],
   "source": []
  }
 ],
 "metadata": {
  "kernelspec": {
   "display_name": "raman_gui",
   "language": "python",
   "name": "raman_gui"
  },
  "language_info": {
   "codemirror_mode": {
    "name": "ipython",
    "version": 3
   },
   "file_extension": ".py",
   "mimetype": "text/x-python",
   "name": "python",
   "nbconvert_exporter": "python",
   "pygments_lexer": "ipython3",
   "version": "3.9.1"
  }
 },
 "nbformat": 4,
 "nbformat_minor": 5
}
