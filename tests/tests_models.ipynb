{
 "cells": [
  {
   "cell_type": "markdown",
   "id": "controversial-vancouver",
   "metadata": {},
   "source": [
    "# Tests Models"
   ]
  },
  {
   "cell_type": "code",
   "execution_count": 1,
   "id": "level-europe",
   "metadata": {},
   "outputs": [],
   "source": [
    "import matplotlib.pyplot as plt\n",
    "import ipywidgets as wdg\n",
    "import numpy as np"
   ]
  },
  {
   "cell_type": "markdown",
   "id": "cleared-alberta",
   "metadata": {},
   "source": [
    "#### Parsers"
   ]
  },
  {
   "cell_type": "code",
   "execution_count": 5,
   "id": "working-fellowship",
   "metadata": {},
   "outputs": [
    {
     "data": {
      "application/vnd.jupyter.widget-view+json": {
       "model_id": "a83de7bcf33f43b1a866a14a8d6e33f4",
       "version_major": 2,
       "version_minor": 0
      },
      "text/plain": [
       "FileUpload(value={}, description='Test parser', multiple=True)"
      ]
     },
     "metadata": {},
     "output_type": "display_data"
    }
   ],
   "source": [
    "%matplotlib inline\n",
    "def test_parser(upload):\n",
    "    from models.parsers import Parsers\n",
    "    \n",
    "#     filename = list(upload['new'].keys())[0]\n",
    "#     bitstream = upload['new'][filename]['content']\n",
    "#     spectra, spectra_metadata = Parsers().single_txt(bitstream)\n",
    "#     spectra, spectra_metadata = Parsers().single_csv(bitstream)\n",
    "    formatted_upload = {key:value['content'] for key, value in upload['new'].items()}\n",
    "    spectra, spectra_metadata = Parsers().multiple_txts(formatted_upload)\n",
    "    \n",
    "    \n",
    "    test_name = list(spectra.keys())[0]\n",
    "    print(spectra[test_name].class_id)\n",
    "\n",
    "    for name in spectra.keys():\n",
    "        plt.plot(spectra[name].energies,spectra[name].counts)\n",
    "        \n",
    "    plt.show()\n",
    "\n",
    "\n",
    "upload_widget = wdg.FileUpload(description='Test parser',multiple=True)\n",
    "upload_widget.observe(test_parser, names = 'value')\n",
    "upload_widget"
   ]
  },
  {
   "cell_type": "code",
   "execution_count": 11,
   "id": "incorporate-incentive",
   "metadata": {},
   "outputs": [],
   "source": [
    "# upload_widget2 = wdg.FileUpload(description='Test parser',multiple=True)\n",
    "# upload_widget2"
   ]
  },
  {
   "cell_type": "code",
   "execution_count": 12,
   "id": "automatic-fourth",
   "metadata": {},
   "outputs": [],
   "source": [
    "# list_of_bits = upload_widget2.value['_12_03_2_labelled.txt']['content'].split(sep=None)\n",
    "# list_lines = upload_widget2.value['HC Li LP40 operando_01.txt']['content'].split(sep=b'\\n')\n",
    "# list_lines[182] == b''\n",
    "# for n, line in enumerate(list_lines):\n",
    "#     if (not line.startswith(b'\\t')) and (not line.startswith(b'#')):\n",
    "#         print(n)\n",
    "#         temporary_array = np.array(line.split(b'\\t')).astype('float64')\n",
    "# temporary_array"
   ]
  },
  {
   "cell_type": "markdown",
   "id": "arctic-cooling",
   "metadata": {},
   "source": [
    "#### Spectrum"
   ]
  },
  {
   "cell_type": "code",
   "execution_count": null,
   "id": "vocational-crazy",
   "metadata": {},
   "outputs": [],
   "source": [
    "from models.spectrum import Spectrum\n",
    "\n",
    "def instantiate_spectrum():\n",
    "    \n",
    "    path = r'C:\\Users\\eibfl\\Documents\\Lead_projects\\software_spectra_analysis\\example_data_horiba_psi'\n",
    "    filename = '_11_54_1.txt'\n",
    "    w, c = np.loadtxt(path+'/'+filename).T\n",
    "    return Spectrum(energies = w, counts= c, name='Li2CO3_D1_1t1h_g600_x50_20s3rep.txt')\n",
    "\n",
    "\n",
    "def plot_spectrum(spectrum):\n",
    "    \n",
    "    print(spectrum.class_id)\n",
    "    print(spectrum.metadata)\n",
    "    \n",
    "    plt.plot(spectrum.energies,spectrum.counts)\n",
    "    plt.show()\n",
    "\n",
    "    \n",
    "example_raw_spectrum = instantiate_spectrum()\n",
    "plot_spectrum(example_raw_spectrum)"
   ]
  },
  {
   "cell_type": "markdown",
   "id": "sexual-wrestling",
   "metadata": {},
   "source": [
    "#### Preprocessing"
   ]
  },
  {
   "cell_type": "code",
   "execution_count": null,
   "id": "postal-consumer",
   "metadata": {},
   "outputs": [],
   "source": [
    "def test_trim(spectrum, within=[350,1000]):\n",
    "    from models.preprocessing import Preprocessing\n",
    "\n",
    "    trimmed_spectrum = Preprocessing().trimming(spectrum, within)\n",
    "\n",
    "    print(trimmed_spectrum.class_id)\n",
    "    print(trimmed_spectrum.metadata)\n",
    "    print(trimmed_spectrum.parent.class_id)\n",
    "    print(trimmed_spectrum.parent.metadata)\n",
    "\n",
    "    plt.plot(trimmed_spectrum.energies,trimmed_spectrum.counts)\n",
    "    plt.show()\n",
    "    \n",
    "    return trimmed_spectrum \n",
    "    \n",
    "example_trimmed_spectrum = test_trim(example_raw_spectrum)"
   ]
  },
  {
   "cell_type": "markdown",
   "id": "wrapped-relationship",
   "metadata": {},
   "source": [
    "#### Baseline correction"
   ]
  },
  {
   "cell_type": "code",
   "execution_count": null,
   "id": "expected-disabled",
   "metadata": {},
   "outputs": [],
   "source": [
    "def test_baseline(spectrum, log_p=-1.5, log_lambda = 7):\n",
    "    from models.baselines import Baselines\n",
    "\n",
    "    baseline_corrected_spectrum = Baselines().asymmetric_least_squares(spectrum, log_p, log_lambda)\n",
    "\n",
    "    print(baseline_corrected_spectrum.class_id)\n",
    "    print(baseline_corrected_spectrum.metadata)\n",
    "    print(baseline_corrected_spectrum.parent.class_id)\n",
    "    print(baseline_corrected_spectrum.parent.metadata)\n",
    "\n",
    "    plt.plot(baseline_corrected_spectrum.energies,baseline_corrected_spectrum.counts)\n",
    "    plt.show()\n",
    "    \n",
    "    return baseline_corrected_spectrum\n",
    "    \n",
    "example_baseline_spectrum = test_baseline(example_trimmed_spectrum)"
   ]
  },
  {
   "cell_type": "markdown",
   "id": "presidential-julian",
   "metadata": {},
   "source": [
    "#### Memory size of nested spectra\n",
    "Each spectrum object has been output by a parent (input) spectrum, stored as the .parent atttribute. However, the object size does not grow with nesting, because each object is not storing a new object but making reference to an existing object in memory. Below, all spectra objects have the same space in memory, despite they being increasingly nested."
   ]
  },
  {
   "cell_type": "code",
   "execution_count": null,
   "id": "expanded-living",
   "metadata": {},
   "outputs": [],
   "source": [
    "# make recursive function to print spectrum tree\n",
    "#estimated size in memory\n",
    "import sys\n",
    "print(example_raw_spectrum.metadata)\n",
    "print('Memory size [bytes]: {}'.format(sys.getsizeof(example_raw_spectrum)))\n",
    "print(example_trimmed_spectrum.metadata)\n",
    "print('Memory size [bytes]: {}'.format(sys.getsizeof(example_trimmed_spectrum)))\n",
    "print(example_baseline_spectrum.metadata)\n",
    "print('Memory size [bytes]: {}'.format(sys.getsizeof(example_baseline_spectrum)))"
   ]
  },
  {
   "cell_type": "markdown",
   "id": "measured-ministry",
   "metadata": {},
   "source": [
    "#### Peak fitting"
   ]
  },
  {
   "cell_type": "code",
   "execution_count": null,
   "id": "blessed-welding",
   "metadata": {},
   "outputs": [],
   "source": [
    "def test_peakfit(spectrum, peak_bounds, guess_widths, lineshape):\n",
    "    from models.fitpeaks import FitPeaks\n",
    "\n",
    "    peak_fitted_spectrum = FitPeaks().fit_peaks(spectrum, peak_bounds, guess_widths, lineshape)\n",
    "\n",
    "    print(peak_fitted_spectrum.class_id)\n",
    "    print(peak_fitted_spectrum.metadata)\n",
    "    print(peak_fitted_spectrum.parent.class_id)\n",
    "    print(peak_fitted_spectrum.parent.metadata)\n",
    "\n",
    "    plt.plot(spectrum.energies,spectrum.counts)\n",
    "    plt.plot(peak_fitted_spectrum.energies,peak_fitted_spectrum.counts)\n",
    "    for peak_number, peak in peak_fitted_spectrum.profiles.items():\n",
    "        plt.plot(peak_fitted_spectrum.energies,peak)\n",
    "        \n",
    "    plt.show()\n",
    "    \n",
    "    return peak_fitted_spectrum\n",
    "\n",
    "my_bounds = [(450,520),(530,610)]\n",
    "my_guess_widhts = [50,50]\n",
    "example_peakfit_spectrum = test_peakfit(example_baseline_spectrum, my_bounds, my_guess_widhts, lineshape='Pseudo-Voight-50Lor')"
   ]
  }
 ],
 "metadata": {
  "kernelspec": {
   "display_name": "raman_gui",
   "language": "python",
   "name": "raman_gui"
  },
  "language_info": {
   "codemirror_mode": {
    "name": "ipython",
    "version": 3
   },
   "file_extension": ".py",
   "mimetype": "text/x-python",
   "name": "python",
   "nbconvert_exporter": "python",
   "pygments_lexer": "ipython3",
   "version": "3.9.1"
  }
 },
 "nbformat": 4,
 "nbformat_minor": 5
}
