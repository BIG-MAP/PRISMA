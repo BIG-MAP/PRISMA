{
 "cells": [
  {
   "cell_type": "code",
   "execution_count": 1,
   "id": "conventional-plaza",
   "metadata": {},
   "outputs": [],
   "source": [
    "# from views.load import ViewLoad\n",
    "# available_parsers = {'Single .csv'         : {'multiple files': False,'file format':'.csv'},\n",
    "#                      'Single .txt (Bruker)': {'multiple files': False,'file format':'.txt'},\n",
    "#                      'Multiple .txt'       : {'multiple files': True, 'file format':'.txt'}}  \n",
    "# subapp = ViewLoad(available_parsers)\n",
    "# subapp.interface"
   ]
  },
  {
   "cell_type": "code",
   "execution_count": 2,
   "id": "friendly-mainstream",
   "metadata": {},
   "outputs": [],
   "source": [
    "# from views.baselines import ViewAls\n",
    "# subapp = ViewAls()\n",
    "# subapp.interface"
   ]
  },
  {
   "cell_type": "code",
   "execution_count": 3,
   "id": "satisfactory-bangladesh",
   "metadata": {},
   "outputs": [
    {
     "data": {
      "application/vnd.jupyter.widget-view+json": {
       "model_id": "97c20042b85240b5b6674e5eb3a3cfe9",
       "version_major": 2,
       "version_minor": 0
      },
      "text/plain": [
       "VBox(children=(HTML(value='<h3>Peak Fitting</h3>'), HBox(children=(VBox(children=(HBox(children=(Button(descri…"
      ]
     },
     "metadata": {},
     "output_type": "display_data"
    }
   ],
   "source": [
    "from views.fitpeaks import ViewFitPeaks\n",
    "subapp = ViewFitPeaks()\n",
    "subapp.interface"
   ]
  },
  {
   "cell_type": "code",
   "execution_count": 4,
   "id": "persistent-mixer",
   "metadata": {},
   "outputs": [],
   "source": [
    "# from views.plots import PlotPeaks\n",
    "# subapp = PlotPeaks()\n",
    "# subapp.interface"
   ]
  },
  {
   "cell_type": "code",
   "execution_count": 5,
   "id": "familiar-judgment",
   "metadata": {},
   "outputs": [],
   "source": [
    "# from main.batch_processing import BatchProcessing\n",
    "# subapp = BatchProcessing()\n",
    "# subapp.interface"
   ]
  }
 ],
 "metadata": {
  "kernelspec": {
   "display_name": "raman_gui",
   "language": "python",
   "name": "raman_gui"
  },
  "language_info": {
   "codemirror_mode": {
    "name": "ipython",
    "version": 3
   },
   "file_extension": ".py",
   "mimetype": "text/x-python",
   "name": "python",
   "nbconvert_exporter": "python",
   "pygments_lexer": "ipython3",
   "version": "3.9.1"
  }
 },
 "nbformat": 4,
 "nbformat_minor": 5
}
